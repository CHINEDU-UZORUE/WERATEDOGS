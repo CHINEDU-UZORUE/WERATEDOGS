{
 "cells": [
  {
   "cell_type": "markdown",
   "metadata": {
    "extensions": {
     "jupyter_dashboards": {
      "version": 1,
      "views": {
       "grid_default": {
        "col": 0,
        "height": 4,
        "hidden": false,
        "row": 0,
        "width": 4
       },
       "report_default": {
        "hidden": false
       }
      }
     }
    }
   },
   "source": [
    "# Project: Wrangling and Analyze Data By Chinedu Uzorue"
   ]
  },
  {
   "cell_type": "markdown",
   "metadata": {},
   "source": [
    "## Table of Content\n",
    "\n",
    "1. [Data Gathering](#dg)\n",
    "2. [Assessing Data](#ad)\n",
    "3. [Cleaning Data](#cd)\n",
    "4. [Storing Data](#sd)\n",
    "5. [Analyzing and Visualizing Data](#avd)"
   ]
  },
  {
   "cell_type": "markdown",
   "metadata": {},
   "source": [
    "## Data Gathering\n",
    "\n",
    "<a id=\"dg\"></a>\n",
    "In the cell below, gather **all** three pieces of data for this project and load them in the notebook. **Note:** the methods required to gather each data are different.\n",
    "1. Directly download the WeRateDogs Twitter archive data (twitter_archive_enhanced.csv)"
   ]
  },
  {
   "cell_type": "markdown",
   "metadata": {},
   "source": [
    "### Import necessary packages"
   ]
  },
  {
   "cell_type": "code",
   "execution_count": 1,
   "metadata": {},
   "outputs": [],
   "source": [
    "import pandas as pd\n",
    "import numpy as np\n",
    "import requests as re\n",
    "import json\n",
    "import matplotlib.pyplot as plt\n",
    "import seaborn as sns\n",
    "from wordcloud import WordCloud\n",
    "%matplotlib inline"
   ]
  },
  {
   "cell_type": "code",
   "execution_count": 2,
   "metadata": {
    "extensions": {
     "jupyter_dashboards": {
      "version": 1,
      "views": {
       "grid_default": {
        "hidden": true
       },
       "report_default": {
        "hidden": true
       }
      }
     }
    }
   },
   "outputs": [],
   "source": [
    "tw_archive = pd.read_csv('twitter-archive-enhanced.csv')\n",
    "#tw_archive.tweet_id.values"
   ]
  },
  {
   "cell_type": "markdown",
   "metadata": {},
   "source": [
    "2. Use the Requests library to download the tweet image prediction (image_predictions.tsv)"
   ]
  },
  {
   "cell_type": "code",
   "execution_count": 3,
   "metadata": {},
   "outputs": [],
   "source": [
    "url = \"https://d17h27t6h515a5.cloudfront.net/topher/2017/August/599fd2ad_image-predictions/image-predictions.tsv\"\n",
    "response = re.get(url)\n",
    "\n",
    "with open('image-predictions.tsv', mode ='wb') as file:\n",
    "    file.write(response.content)"
   ]
  },
  {
   "cell_type": "markdown",
   "metadata": {},
   "source": [
    "2b. Store the contents of 'image-predictions.tsv' into a pandas dataframe"
   ]
  },
  {
   "cell_type": "code",
   "execution_count": 4,
   "metadata": {},
   "outputs": [],
   "source": [
    "img_prd = pd.read_csv('image-predictions.tsv', sep='\\t')"
   ]
  },
  {
   "cell_type": "markdown",
   "metadata": {},
   "source": [
    "3. Use the Tweepy library to query additional data via the Twitter API (tweet_json.txt) <br />\n",
    "**Comment:** I could not get my Twitter Developer request approved, so I used the provided txt file"
   ]
  },
  {
   "cell_type": "code",
   "execution_count": 5,
   "metadata": {},
   "outputs": [],
   "source": [
    "#Create an empty list to be populated with the content of the txt file [encoding='utf-8']\n",
    "temp_df = []\n",
    "\n",
    "with open('tweet-json.txt', 'r') as file:\n",
    "    for line in file:\n",
    "        temp_df.append(json.loads(line))"
   ]
  },
  {
   "cell_type": "code",
   "execution_count": 6,
   "metadata": {},
   "outputs": [
    {
     "name": "stdout",
     "output_type": "stream",
     "text": [
      "{'created_at': 'Tue Aug 01 16:23:56 +0000 2017', 'id': 892420643555336193, 'id_str': '892420643555336193', 'full_text': \"This is Phineas. He's a mystical boy. Only ever appears in the hole of a donut. 13/10 https://t.co/MgUWQ76dJU\", 'truncated': False, 'display_text_range': [0, 85], 'entities': {'hashtags': [], 'symbols': [], 'user_mentions': [], 'urls': [], 'media': [{'id': 892420639486877696, 'id_str': '892420639486877696', 'indices': [86, 109], 'media_url': 'http://pbs.twimg.com/media/DGKD1-bXoAAIAUK.jpg', 'media_url_https': 'https://pbs.twimg.com/media/DGKD1-bXoAAIAUK.jpg', 'url': 'https://t.co/MgUWQ76dJU', 'display_url': 'pic.twitter.com/MgUWQ76dJU', 'expanded_url': 'https://twitter.com/dog_rates/status/892420643555336193/photo/1', 'type': 'photo', 'sizes': {'large': {'w': 540, 'h': 528, 'resize': 'fit'}, 'thumb': {'w': 150, 'h': 150, 'resize': 'crop'}, 'small': {'w': 540, 'h': 528, 'resize': 'fit'}, 'medium': {'w': 540, 'h': 528, 'resize': 'fit'}}}]}, 'extended_entities': {'media': [{'id': 892420639486877696, 'id_str': '892420639486877696', 'indices': [86, 109], 'media_url': 'http://pbs.twimg.com/media/DGKD1-bXoAAIAUK.jpg', 'media_url_https': 'https://pbs.twimg.com/media/DGKD1-bXoAAIAUK.jpg', 'url': 'https://t.co/MgUWQ76dJU', 'display_url': 'pic.twitter.com/MgUWQ76dJU', 'expanded_url': 'https://twitter.com/dog_rates/status/892420643555336193/photo/1', 'type': 'photo', 'sizes': {'large': {'w': 540, 'h': 528, 'resize': 'fit'}, 'thumb': {'w': 150, 'h': 150, 'resize': 'crop'}, 'small': {'w': 540, 'h': 528, 'resize': 'fit'}, 'medium': {'w': 540, 'h': 528, 'resize': 'fit'}}}]}, 'source': '<a href=\"http://twitter.com/download/iphone\" rel=\"nofollow\">Twitter for iPhone</a>', 'in_reply_to_status_id': None, 'in_reply_to_status_id_str': None, 'in_reply_to_user_id': None, 'in_reply_to_user_id_str': None, 'in_reply_to_screen_name': None, 'user': {'id': 4196983835, 'id_str': '4196983835', 'name': 'WeRateDogs™ (author)', 'screen_name': 'dog_rates', 'location': 'DM YOUR DOGS, WE WILL RATE', 'description': '#1 Source for Professional Dog Ratings | STORE: @ShopWeRateDogs | IG, FB & SC: WeRateDogs MOBILE APP: @GoodDogsGame | Business: dogratingtwitter@gmail.com', 'url': 'https://t.co/N7sNNHAEXS', 'entities': {'url': {'urls': [{'url': 'https://t.co/N7sNNHAEXS', 'expanded_url': 'http://weratedogs.com', 'display_url': 'weratedogs.com', 'indices': [0, 23]}]}, 'description': {'urls': []}}, 'protected': False, 'followers_count': 3200889, 'friends_count': 104, 'listed_count': 2784, 'created_at': 'Sun Nov 15 21:41:29 +0000 2015', 'favourites_count': 114031, 'utc_offset': None, 'time_zone': None, 'geo_enabled': True, 'verified': True, 'statuses_count': 5288, 'lang': 'en', 'contributors_enabled': False, 'is_translator': False, 'is_translation_enabled': False, 'profile_background_color': '000000', 'profile_background_image_url': 'http://abs.twimg.com/images/themes/theme1/bg.png', 'profile_background_image_url_https': 'https://abs.twimg.com/images/themes/theme1/bg.png', 'profile_background_tile': False, 'profile_image_url': 'http://pbs.twimg.com/profile_images/861415328504569856/R2xOOfwe_normal.jpg', 'profile_image_url_https': 'https://pbs.twimg.com/profile_images/861415328504569856/R2xOOfwe_normal.jpg', 'profile_banner_url': 'https://pbs.twimg.com/profile_banners/4196983835/1501129017', 'profile_link_color': 'F5ABB5', 'profile_sidebar_border_color': '000000', 'profile_sidebar_fill_color': '000000', 'profile_text_color': '000000', 'profile_use_background_image': False, 'has_extended_profile': True, 'default_profile': False, 'default_profile_image': False, 'following': True, 'follow_request_sent': False, 'notifications': False, 'translator_type': 'none'}, 'geo': None, 'coordinates': None, 'place': None, 'contributors': None, 'is_quote_status': False, 'retweet_count': 8853, 'favorite_count': 39467, 'favorited': False, 'retweeted': False, 'possibly_sensitive': False, 'possibly_sensitive_appealable': False, 'lang': 'en'}\n"
     ]
    }
   ],
   "source": [
    "#Check the list just created\n",
    "print(temp_df[0])"
   ]
  },
  {
   "cell_type": "code",
   "execution_count": 7,
   "metadata": {},
   "outputs": [],
   "source": [
    "#Here we create a dataframe from the list created above with 3 columns (id, retweet_count and favorite_count)\n",
    "\n",
    "twitter_data = pd.DataFrame(temp_df, columns=['id','retweet_count','favorite_count'])\n",
    "\n",
    "#rename \"id\" column to \"tweet_id\"\n",
    "twitter_data.rename(columns={'id':'tweet_id'}, inplace=True)\n"
   ]
  },
  {
   "cell_type": "markdown",
   "metadata": {
    "extensions": {
     "jupyter_dashboards": {
      "version": 1,
      "views": {
       "grid_default": {
        "col": 4,
        "height": 4,
        "hidden": false,
        "row": 28,
        "width": 4
       },
       "report_default": {
        "hidden": false
       }
      }
     }
    }
   },
   "source": [
    "## Assessing Data\n",
    "\n",
    "<a id=\"ad\"></a>\n",
    "In this section, detect and document at least **eight (8) quality issues and two (2) tidiness issue**. You must use **both** visual assessment\n",
    "programmatic assessement to assess the data.\n",
    "\n",
    "**Note:** pay attention to the following key points when you access the data.\n",
    "\n",
    "* You only want original ratings (no retweets) that have images. Though there are 5000+ tweets in the dataset, not all are dog ratings and some are retweets.\n",
    "* Assessing and cleaning the entire dataset completely would require a lot of time, and is not necessary to practice and demonstrate your skills in data wrangling. Therefore, the requirements of this project are only to assess and clean at least 8 quality issues and at least 2 tidiness issues in this dataset.\n",
    "* The fact that the rating numerators are greater than the denominators does not need to be cleaned. This [unique rating system](http://knowyourmeme.com/memes/theyre-good-dogs-brent) is a big part of the popularity of WeRateDogs.\n",
    "* You do not need to gather the tweets beyond August 1st, 2017. You can, but note that you won't be able to gather the image predictions for these tweets since you don't have access to the algorithm used.\n",
    "\n"
   ]
  },
  {
   "cell_type": "markdown",
   "metadata": {},
   "source": [
    "### a. Assessing the `twitter_data` dataframe"
   ]
  },
  {
   "cell_type": "code",
   "execution_count": 8,
   "metadata": {},
   "outputs": [
    {
     "name": "stdout",
     "output_type": "stream",
     "text": [
      "<class 'pandas.core.frame.DataFrame'>\n",
      "RangeIndex: 2354 entries, 0 to 2353\n",
      "Data columns (total 3 columns):\n",
      "tweet_id          2354 non-null int64\n",
      "retweet_count     2354 non-null int64\n",
      "favorite_count    2354 non-null int64\n",
      "dtypes: int64(3)\n",
      "memory usage: 55.2 KB\n"
     ]
    }
   ],
   "source": [
    "#Check the newly created dataframe based off \n",
    "twitter_data.info()"
   ]
  },
  {
   "cell_type": "code",
   "execution_count": 9,
   "metadata": {},
   "outputs": [
    {
     "data": {
      "text/html": [
       "<div>\n",
       "<style scoped>\n",
       "    .dataframe tbody tr th:only-of-type {\n",
       "        vertical-align: middle;\n",
       "    }\n",
       "\n",
       "    .dataframe tbody tr th {\n",
       "        vertical-align: top;\n",
       "    }\n",
       "\n",
       "    .dataframe thead th {\n",
       "        text-align: right;\n",
       "    }\n",
       "</style>\n",
       "<table border=\"1\" class=\"dataframe\">\n",
       "  <thead>\n",
       "    <tr style=\"text-align: right;\">\n",
       "      <th></th>\n",
       "      <th>tweet_id</th>\n",
       "      <th>retweet_count</th>\n",
       "      <th>favorite_count</th>\n",
       "    </tr>\n",
       "  </thead>\n",
       "  <tbody>\n",
       "    <tr>\n",
       "      <th>0</th>\n",
       "      <td>892420643555336193</td>\n",
       "      <td>8853</td>\n",
       "      <td>39467</td>\n",
       "    </tr>\n",
       "    <tr>\n",
       "      <th>1</th>\n",
       "      <td>892177421306343426</td>\n",
       "      <td>6514</td>\n",
       "      <td>33819</td>\n",
       "    </tr>\n",
       "    <tr>\n",
       "      <th>2</th>\n",
       "      <td>891815181378084864</td>\n",
       "      <td>4328</td>\n",
       "      <td>25461</td>\n",
       "    </tr>\n",
       "    <tr>\n",
       "      <th>3</th>\n",
       "      <td>891689557279858688</td>\n",
       "      <td>8964</td>\n",
       "      <td>42908</td>\n",
       "    </tr>\n",
       "    <tr>\n",
       "      <th>4</th>\n",
       "      <td>891327558926688256</td>\n",
       "      <td>9774</td>\n",
       "      <td>41048</td>\n",
       "    </tr>\n",
       "  </tbody>\n",
       "</table>\n",
       "</div>"
      ],
      "text/plain": [
       "             tweet_id  retweet_count  favorite_count\n",
       "0  892420643555336193           8853           39467\n",
       "1  892177421306343426           6514           33819\n",
       "2  891815181378084864           4328           25461\n",
       "3  891689557279858688           8964           42908\n",
       "4  891327558926688256           9774           41048"
      ]
     },
     "execution_count": 9,
     "metadata": {},
     "output_type": "execute_result"
    }
   ],
   "source": [
    "twitter_data.head()"
   ]
  },
  {
   "cell_type": "code",
   "execution_count": 10,
   "metadata": {},
   "outputs": [
    {
     "data": {
      "text/html": [
       "<div>\n",
       "<style scoped>\n",
       "    .dataframe tbody tr th:only-of-type {\n",
       "        vertical-align: middle;\n",
       "    }\n",
       "\n",
       "    .dataframe tbody tr th {\n",
       "        vertical-align: top;\n",
       "    }\n",
       "\n",
       "    .dataframe thead th {\n",
       "        text-align: right;\n",
       "    }\n",
       "</style>\n",
       "<table border=\"1\" class=\"dataframe\">\n",
       "  <thead>\n",
       "    <tr style=\"text-align: right;\">\n",
       "      <th></th>\n",
       "      <th>tweet_id</th>\n",
       "      <th>retweet_count</th>\n",
       "      <th>favorite_count</th>\n",
       "    </tr>\n",
       "  </thead>\n",
       "  <tbody>\n",
       "    <tr>\n",
       "      <th>count</th>\n",
       "      <td>2.354000e+03</td>\n",
       "      <td>2354.000000</td>\n",
       "      <td>2354.000000</td>\n",
       "    </tr>\n",
       "    <tr>\n",
       "      <th>mean</th>\n",
       "      <td>7.426978e+17</td>\n",
       "      <td>3164.797366</td>\n",
       "      <td>8080.968564</td>\n",
       "    </tr>\n",
       "    <tr>\n",
       "      <th>std</th>\n",
       "      <td>6.852812e+16</td>\n",
       "      <td>5284.770364</td>\n",
       "      <td>11814.771334</td>\n",
       "    </tr>\n",
       "    <tr>\n",
       "      <th>min</th>\n",
       "      <td>6.660209e+17</td>\n",
       "      <td>0.000000</td>\n",
       "      <td>0.000000</td>\n",
       "    </tr>\n",
       "    <tr>\n",
       "      <th>25%</th>\n",
       "      <td>6.783975e+17</td>\n",
       "      <td>624.500000</td>\n",
       "      <td>1415.000000</td>\n",
       "    </tr>\n",
       "    <tr>\n",
       "      <th>50%</th>\n",
       "      <td>7.194596e+17</td>\n",
       "      <td>1473.500000</td>\n",
       "      <td>3603.500000</td>\n",
       "    </tr>\n",
       "    <tr>\n",
       "      <th>75%</th>\n",
       "      <td>7.993058e+17</td>\n",
       "      <td>3652.000000</td>\n",
       "      <td>10122.250000</td>\n",
       "    </tr>\n",
       "    <tr>\n",
       "      <th>max</th>\n",
       "      <td>8.924206e+17</td>\n",
       "      <td>79515.000000</td>\n",
       "      <td>132810.000000</td>\n",
       "    </tr>\n",
       "  </tbody>\n",
       "</table>\n",
       "</div>"
      ],
      "text/plain": [
       "           tweet_id  retweet_count  favorite_count\n",
       "count  2.354000e+03    2354.000000     2354.000000\n",
       "mean   7.426978e+17    3164.797366     8080.968564\n",
       "std    6.852812e+16    5284.770364    11814.771334\n",
       "min    6.660209e+17       0.000000        0.000000\n",
       "25%    6.783975e+17     624.500000     1415.000000\n",
       "50%    7.194596e+17    1473.500000     3603.500000\n",
       "75%    7.993058e+17    3652.000000    10122.250000\n",
       "max    8.924206e+17   79515.000000   132810.000000"
      ]
     },
     "execution_count": 10,
     "metadata": {},
     "output_type": "execute_result"
    }
   ],
   "source": [
    "twitter_data.describe()"
   ]
  },
  {
   "cell_type": "code",
   "execution_count": 11,
   "metadata": {},
   "outputs": [
    {
     "data": {
      "text/plain": [
       "0"
      ]
     },
     "execution_count": 11,
     "metadata": {},
     "output_type": "execute_result"
    }
   ],
   "source": [
    "#check for any duplicates\n",
    "twitter_data.duplicated().sum()"
   ]
  },
  {
   "cell_type": "markdown",
   "metadata": {},
   "source": [
    "### b. Assessing the `tw_archive` dataframe"
   ]
  },
  {
   "cell_type": "code",
   "execution_count": 12,
   "metadata": {},
   "outputs": [
    {
     "name": "stdout",
     "output_type": "stream",
     "text": [
      "<class 'pandas.core.frame.DataFrame'>\n",
      "RangeIndex: 2356 entries, 0 to 2355\n",
      "Data columns (total 17 columns):\n",
      "tweet_id                      2356 non-null int64\n",
      "in_reply_to_status_id         78 non-null float64\n",
      "in_reply_to_user_id           78 non-null float64\n",
      "timestamp                     2356 non-null object\n",
      "source                        2356 non-null object\n",
      "text                          2356 non-null object\n",
      "retweeted_status_id           181 non-null float64\n",
      "retweeted_status_user_id      181 non-null float64\n",
      "retweeted_status_timestamp    181 non-null object\n",
      "expanded_urls                 2297 non-null object\n",
      "rating_numerator              2356 non-null int64\n",
      "rating_denominator            2356 non-null int64\n",
      "name                          2356 non-null object\n",
      "doggo                         2356 non-null object\n",
      "floofer                       2356 non-null object\n",
      "pupper                        2356 non-null object\n",
      "puppo                         2356 non-null object\n",
      "dtypes: float64(4), int64(3), object(10)\n",
      "memory usage: 313.0+ KB\n"
     ]
    }
   ],
   "source": [
    "#check the twitter archive dataframe\n",
    "tw_archive.info()"
   ]
  },
  {
   "cell_type": "code",
   "execution_count": 13,
   "metadata": {},
   "outputs": [
    {
     "data": {
      "text/plain": [
       "0"
      ]
     },
     "execution_count": 13,
     "metadata": {},
     "output_type": "execute_result"
    }
   ],
   "source": [
    "#check for any duplicate\n",
    "tw_archive.duplicated().sum()"
   ]
  },
  {
   "cell_type": "code",
   "execution_count": 14,
   "metadata": {},
   "outputs": [
    {
     "data": {
      "text/plain": [
       "12      558\n",
       "11      464\n",
       "10      461\n",
       "13      351\n",
       "9       158\n",
       "8       102\n",
       "7        55\n",
       "14       54\n",
       "5        37\n",
       "6        32\n",
       "3        19\n",
       "4        17\n",
       "1         9\n",
       "2         9\n",
       "420       2\n",
       "0         2\n",
       "15        2\n",
       "75        2\n",
       "80        1\n",
       "20        1\n",
       "24        1\n",
       "26        1\n",
       "44        1\n",
       "50        1\n",
       "60        1\n",
       "165       1\n",
       "84        1\n",
       "88        1\n",
       "144       1\n",
       "182       1\n",
       "143       1\n",
       "666       1\n",
       "960       1\n",
       "1776      1\n",
       "17        1\n",
       "27        1\n",
       "45        1\n",
       "99        1\n",
       "121       1\n",
       "204       1\n",
       "Name: rating_numerator, dtype: int64"
      ]
     },
     "execution_count": 14,
     "metadata": {},
     "output_type": "execute_result"
    }
   ],
   "source": [
    "#check the rating_numerator column\n",
    "tw_archive.rating_numerator.value_counts()"
   ]
  },
  {
   "cell_type": "code",
   "execution_count": 15,
   "metadata": {},
   "outputs": [
    {
     "data": {
      "text/plain": [
       "10     2333\n",
       "11        3\n",
       "50        3\n",
       "80        2\n",
       "20        2\n",
       "2         1\n",
       "16        1\n",
       "40        1\n",
       "70        1\n",
       "15        1\n",
       "90        1\n",
       "110       1\n",
       "120       1\n",
       "130       1\n",
       "150       1\n",
       "170       1\n",
       "7         1\n",
       "0         1\n",
       "Name: rating_denominator, dtype: int64"
      ]
     },
     "execution_count": 15,
     "metadata": {},
     "output_type": "execute_result"
    }
   ],
   "source": [
    "#check the rating_denominator column\n",
    "tw_archive.rating_denominator.value_counts()"
   ]
  },
  {
   "cell_type": "code",
   "execution_count": 16,
   "metadata": {},
   "outputs": [
    {
     "name": "stdout",
     "output_type": "stream",
     "text": [
      "<class 'pandas.core.frame.DataFrame'>\n",
      "Int64Index: 2354 entries, 2 to 2355\n",
      "Data columns (total 17 columns):\n",
      "tweet_id                      2354 non-null int64\n",
      "in_reply_to_status_id         78 non-null float64\n",
      "in_reply_to_user_id           78 non-null float64\n",
      "timestamp                     2354 non-null object\n",
      "source                        2354 non-null object\n",
      "text                          2354 non-null object\n",
      "retweeted_status_id           181 non-null float64\n",
      "retweeted_status_user_id      181 non-null float64\n",
      "retweeted_status_timestamp    181 non-null object\n",
      "expanded_urls                 2295 non-null object\n",
      "rating_numerator              2354 non-null int64\n",
      "rating_denominator            2354 non-null int64\n",
      "name                          2354 non-null object\n",
      "doggo                         2354 non-null object\n",
      "floofer                       2354 non-null object\n",
      "pupper                        2354 non-null object\n",
      "puppo                         2354 non-null object\n",
      "dtypes: float64(4), int64(3), object(10)\n",
      "memory usage: 331.0+ KB\n"
     ]
    }
   ],
   "source": [
    "#Taking off tweets beyond August 1st 2017\n",
    "tw_archive = tw_archive[tw_archive['timestamp']<\"2017-08-01\"]\n",
    "#tw_archive.drop(tw_archive2.index, inplace=True)\n",
    "tw_archive.info()"
   ]
  },
  {
   "cell_type": "code",
   "execution_count": 17,
   "metadata": {},
   "outputs": [
    {
     "data": {
      "text/html": [
       "<div>\n",
       "<style scoped>\n",
       "    .dataframe tbody tr th:only-of-type {\n",
       "        vertical-align: middle;\n",
       "    }\n",
       "\n",
       "    .dataframe tbody tr th {\n",
       "        vertical-align: top;\n",
       "    }\n",
       "\n",
       "    .dataframe thead th {\n",
       "        text-align: right;\n",
       "    }\n",
       "</style>\n",
       "<table border=\"1\" class=\"dataframe\">\n",
       "  <thead>\n",
       "    <tr style=\"text-align: right;\">\n",
       "      <th></th>\n",
       "      <th>tweet_id</th>\n",
       "      <th>in_reply_to_status_id</th>\n",
       "      <th>in_reply_to_user_id</th>\n",
       "      <th>timestamp</th>\n",
       "      <th>source</th>\n",
       "      <th>text</th>\n",
       "      <th>retweeted_status_id</th>\n",
       "      <th>retweeted_status_user_id</th>\n",
       "      <th>retweeted_status_timestamp</th>\n",
       "      <th>expanded_urls</th>\n",
       "      <th>rating_numerator</th>\n",
       "      <th>rating_denominator</th>\n",
       "      <th>name</th>\n",
       "      <th>doggo</th>\n",
       "      <th>floofer</th>\n",
       "      <th>pupper</th>\n",
       "      <th>puppo</th>\n",
       "    </tr>\n",
       "  </thead>\n",
       "  <tbody>\n",
       "    <tr>\n",
       "      <th>2</th>\n",
       "      <td>891815181378084864</td>\n",
       "      <td>NaN</td>\n",
       "      <td>NaN</td>\n",
       "      <td>2017-07-31 00:18:03 +0000</td>\n",
       "      <td>&lt;a href=\"http://twitter.com/download/iphone\" r...</td>\n",
       "      <td>This is Archie. He is a rare Norwegian Pouncin...</td>\n",
       "      <td>NaN</td>\n",
       "      <td>NaN</td>\n",
       "      <td>NaN</td>\n",
       "      <td>https://twitter.com/dog_rates/status/891815181...</td>\n",
       "      <td>12</td>\n",
       "      <td>10</td>\n",
       "      <td>Archie</td>\n",
       "      <td>None</td>\n",
       "      <td>None</td>\n",
       "      <td>None</td>\n",
       "      <td>None</td>\n",
       "    </tr>\n",
       "    <tr>\n",
       "      <th>3</th>\n",
       "      <td>891689557279858688</td>\n",
       "      <td>NaN</td>\n",
       "      <td>NaN</td>\n",
       "      <td>2017-07-30 15:58:51 +0000</td>\n",
       "      <td>&lt;a href=\"http://twitter.com/download/iphone\" r...</td>\n",
       "      <td>This is Darla. She commenced a snooze mid meal...</td>\n",
       "      <td>NaN</td>\n",
       "      <td>NaN</td>\n",
       "      <td>NaN</td>\n",
       "      <td>https://twitter.com/dog_rates/status/891689557...</td>\n",
       "      <td>13</td>\n",
       "      <td>10</td>\n",
       "      <td>Darla</td>\n",
       "      <td>None</td>\n",
       "      <td>None</td>\n",
       "      <td>None</td>\n",
       "      <td>None</td>\n",
       "    </tr>\n",
       "    <tr>\n",
       "      <th>4</th>\n",
       "      <td>891327558926688256</td>\n",
       "      <td>NaN</td>\n",
       "      <td>NaN</td>\n",
       "      <td>2017-07-29 16:00:24 +0000</td>\n",
       "      <td>&lt;a href=\"http://twitter.com/download/iphone\" r...</td>\n",
       "      <td>This is Franklin. He would like you to stop ca...</td>\n",
       "      <td>NaN</td>\n",
       "      <td>NaN</td>\n",
       "      <td>NaN</td>\n",
       "      <td>https://twitter.com/dog_rates/status/891327558...</td>\n",
       "      <td>12</td>\n",
       "      <td>10</td>\n",
       "      <td>Franklin</td>\n",
       "      <td>None</td>\n",
       "      <td>None</td>\n",
       "      <td>None</td>\n",
       "      <td>None</td>\n",
       "    </tr>\n",
       "    <tr>\n",
       "      <th>5</th>\n",
       "      <td>891087950875897856</td>\n",
       "      <td>NaN</td>\n",
       "      <td>NaN</td>\n",
       "      <td>2017-07-29 00:08:17 +0000</td>\n",
       "      <td>&lt;a href=\"http://twitter.com/download/iphone\" r...</td>\n",
       "      <td>Here we have a majestic great white breaching ...</td>\n",
       "      <td>NaN</td>\n",
       "      <td>NaN</td>\n",
       "      <td>NaN</td>\n",
       "      <td>https://twitter.com/dog_rates/status/891087950...</td>\n",
       "      <td>13</td>\n",
       "      <td>10</td>\n",
       "      <td>None</td>\n",
       "      <td>None</td>\n",
       "      <td>None</td>\n",
       "      <td>None</td>\n",
       "      <td>None</td>\n",
       "    </tr>\n",
       "    <tr>\n",
       "      <th>6</th>\n",
       "      <td>890971913173991426</td>\n",
       "      <td>NaN</td>\n",
       "      <td>NaN</td>\n",
       "      <td>2017-07-28 16:27:12 +0000</td>\n",
       "      <td>&lt;a href=\"http://twitter.com/download/iphone\" r...</td>\n",
       "      <td>Meet Jax. He enjoys ice cream so much he gets ...</td>\n",
       "      <td>NaN</td>\n",
       "      <td>NaN</td>\n",
       "      <td>NaN</td>\n",
       "      <td>https://gofundme.com/ydvmve-surgery-for-jax,ht...</td>\n",
       "      <td>13</td>\n",
       "      <td>10</td>\n",
       "      <td>Jax</td>\n",
       "      <td>None</td>\n",
       "      <td>None</td>\n",
       "      <td>None</td>\n",
       "      <td>None</td>\n",
       "    </tr>\n",
       "  </tbody>\n",
       "</table>\n",
       "</div>"
      ],
      "text/plain": [
       "             tweet_id  in_reply_to_status_id  in_reply_to_user_id  \\\n",
       "2  891815181378084864                    NaN                  NaN   \n",
       "3  891689557279858688                    NaN                  NaN   \n",
       "4  891327558926688256                    NaN                  NaN   \n",
       "5  891087950875897856                    NaN                  NaN   \n",
       "6  890971913173991426                    NaN                  NaN   \n",
       "\n",
       "                   timestamp  \\\n",
       "2  2017-07-31 00:18:03 +0000   \n",
       "3  2017-07-30 15:58:51 +0000   \n",
       "4  2017-07-29 16:00:24 +0000   \n",
       "5  2017-07-29 00:08:17 +0000   \n",
       "6  2017-07-28 16:27:12 +0000   \n",
       "\n",
       "                                              source  \\\n",
       "2  <a href=\"http://twitter.com/download/iphone\" r...   \n",
       "3  <a href=\"http://twitter.com/download/iphone\" r...   \n",
       "4  <a href=\"http://twitter.com/download/iphone\" r...   \n",
       "5  <a href=\"http://twitter.com/download/iphone\" r...   \n",
       "6  <a href=\"http://twitter.com/download/iphone\" r...   \n",
       "\n",
       "                                                text  retweeted_status_id  \\\n",
       "2  This is Archie. He is a rare Norwegian Pouncin...                  NaN   \n",
       "3  This is Darla. She commenced a snooze mid meal...                  NaN   \n",
       "4  This is Franklin. He would like you to stop ca...                  NaN   \n",
       "5  Here we have a majestic great white breaching ...                  NaN   \n",
       "6  Meet Jax. He enjoys ice cream so much he gets ...                  NaN   \n",
       "\n",
       "   retweeted_status_user_id retweeted_status_timestamp  \\\n",
       "2                       NaN                        NaN   \n",
       "3                       NaN                        NaN   \n",
       "4                       NaN                        NaN   \n",
       "5                       NaN                        NaN   \n",
       "6                       NaN                        NaN   \n",
       "\n",
       "                                       expanded_urls  rating_numerator  \\\n",
       "2  https://twitter.com/dog_rates/status/891815181...                12   \n",
       "3  https://twitter.com/dog_rates/status/891689557...                13   \n",
       "4  https://twitter.com/dog_rates/status/891327558...                12   \n",
       "5  https://twitter.com/dog_rates/status/891087950...                13   \n",
       "6  https://gofundme.com/ydvmve-surgery-for-jax,ht...                13   \n",
       "\n",
       "   rating_denominator      name doggo floofer pupper puppo  \n",
       "2                  10    Archie  None    None   None  None  \n",
       "3                  10     Darla  None    None   None  None  \n",
       "4                  10  Franklin  None    None   None  None  \n",
       "5                  10      None  None    None   None  None  \n",
       "6                  10       Jax  None    None   None  None  "
      ]
     },
     "execution_count": 17,
     "metadata": {},
     "output_type": "execute_result"
    }
   ],
   "source": [
    "tw_archive.head()"
   ]
  },
  {
   "cell_type": "code",
   "execution_count": 18,
   "metadata": {},
   "outputs": [
    {
     "data": {
      "text/html": [
       "<div>\n",
       "<style scoped>\n",
       "    .dataframe tbody tr th:only-of-type {\n",
       "        vertical-align: middle;\n",
       "    }\n",
       "\n",
       "    .dataframe tbody tr th {\n",
       "        vertical-align: top;\n",
       "    }\n",
       "\n",
       "    .dataframe thead th {\n",
       "        text-align: right;\n",
       "    }\n",
       "</style>\n",
       "<table border=\"1\" class=\"dataframe\">\n",
       "  <thead>\n",
       "    <tr style=\"text-align: right;\">\n",
       "      <th></th>\n",
       "      <th>tweet_id</th>\n",
       "      <th>in_reply_to_status_id</th>\n",
       "      <th>in_reply_to_user_id</th>\n",
       "      <th>retweeted_status_id</th>\n",
       "      <th>retweeted_status_user_id</th>\n",
       "      <th>rating_numerator</th>\n",
       "      <th>rating_denominator</th>\n",
       "    </tr>\n",
       "  </thead>\n",
       "  <tbody>\n",
       "    <tr>\n",
       "      <th>count</th>\n",
       "      <td>2.354000e+03</td>\n",
       "      <td>7.800000e+01</td>\n",
       "      <td>7.800000e+01</td>\n",
       "      <td>1.810000e+02</td>\n",
       "      <td>1.810000e+02</td>\n",
       "      <td>2354.000000</td>\n",
       "      <td>2354.00000</td>\n",
       "    </tr>\n",
       "    <tr>\n",
       "      <th>mean</th>\n",
       "      <td>7.426445e+17</td>\n",
       "      <td>7.455079e+17</td>\n",
       "      <td>2.014171e+16</td>\n",
       "      <td>7.720400e+17</td>\n",
       "      <td>1.241698e+16</td>\n",
       "      <td>13.126593</td>\n",
       "      <td>10.45582</td>\n",
       "    </tr>\n",
       "    <tr>\n",
       "      <th>std</th>\n",
       "      <td>6.845740e+16</td>\n",
       "      <td>7.582492e+16</td>\n",
       "      <td>1.252797e+17</td>\n",
       "      <td>6.236928e+16</td>\n",
       "      <td>9.599254e+16</td>\n",
       "      <td>45.896140</td>\n",
       "      <td>6.74809</td>\n",
       "    </tr>\n",
       "    <tr>\n",
       "      <th>min</th>\n",
       "      <td>6.660209e+17</td>\n",
       "      <td>6.658147e+17</td>\n",
       "      <td>1.185634e+07</td>\n",
       "      <td>6.661041e+17</td>\n",
       "      <td>7.832140e+05</td>\n",
       "      <td>0.000000</td>\n",
       "      <td>0.00000</td>\n",
       "    </tr>\n",
       "    <tr>\n",
       "      <th>25%</th>\n",
       "      <td>6.783975e+17</td>\n",
       "      <td>6.757419e+17</td>\n",
       "      <td>3.086374e+08</td>\n",
       "      <td>7.186315e+17</td>\n",
       "      <td>4.196984e+09</td>\n",
       "      <td>10.000000</td>\n",
       "      <td>10.00000</td>\n",
       "    </tr>\n",
       "    <tr>\n",
       "      <th>50%</th>\n",
       "      <td>7.194596e+17</td>\n",
       "      <td>7.038708e+17</td>\n",
       "      <td>4.196984e+09</td>\n",
       "      <td>7.804657e+17</td>\n",
       "      <td>4.196984e+09</td>\n",
       "      <td>11.000000</td>\n",
       "      <td>10.00000</td>\n",
       "    </tr>\n",
       "    <tr>\n",
       "      <th>75%</th>\n",
       "      <td>7.992387e+17</td>\n",
       "      <td>8.257804e+17</td>\n",
       "      <td>4.196984e+09</td>\n",
       "      <td>8.203146e+17</td>\n",
       "      <td>4.196984e+09</td>\n",
       "      <td>12.000000</td>\n",
       "      <td>10.00000</td>\n",
       "    </tr>\n",
       "    <tr>\n",
       "      <th>max</th>\n",
       "      <td>8.918152e+17</td>\n",
       "      <td>8.862664e+17</td>\n",
       "      <td>8.405479e+17</td>\n",
       "      <td>8.874740e+17</td>\n",
       "      <td>7.874618e+17</td>\n",
       "      <td>1776.000000</td>\n",
       "      <td>170.00000</td>\n",
       "    </tr>\n",
       "  </tbody>\n",
       "</table>\n",
       "</div>"
      ],
      "text/plain": [
       "           tweet_id  in_reply_to_status_id  in_reply_to_user_id  \\\n",
       "count  2.354000e+03           7.800000e+01         7.800000e+01   \n",
       "mean   7.426445e+17           7.455079e+17         2.014171e+16   \n",
       "std    6.845740e+16           7.582492e+16         1.252797e+17   \n",
       "min    6.660209e+17           6.658147e+17         1.185634e+07   \n",
       "25%    6.783975e+17           6.757419e+17         3.086374e+08   \n",
       "50%    7.194596e+17           7.038708e+17         4.196984e+09   \n",
       "75%    7.992387e+17           8.257804e+17         4.196984e+09   \n",
       "max    8.918152e+17           8.862664e+17         8.405479e+17   \n",
       "\n",
       "       retweeted_status_id  retweeted_status_user_id  rating_numerator  \\\n",
       "count         1.810000e+02              1.810000e+02       2354.000000   \n",
       "mean          7.720400e+17              1.241698e+16         13.126593   \n",
       "std           6.236928e+16              9.599254e+16         45.896140   \n",
       "min           6.661041e+17              7.832140e+05          0.000000   \n",
       "25%           7.186315e+17              4.196984e+09         10.000000   \n",
       "50%           7.804657e+17              4.196984e+09         11.000000   \n",
       "75%           8.203146e+17              4.196984e+09         12.000000   \n",
       "max           8.874740e+17              7.874618e+17       1776.000000   \n",
       "\n",
       "       rating_denominator  \n",
       "count          2354.00000  \n",
       "mean             10.45582  \n",
       "std               6.74809  \n",
       "min               0.00000  \n",
       "25%              10.00000  \n",
       "50%              10.00000  \n",
       "75%              10.00000  \n",
       "max             170.00000  "
      ]
     },
     "execution_count": 18,
     "metadata": {},
     "output_type": "execute_result"
    }
   ],
   "source": [
    "tw_archive.describe()"
   ]
  },
  {
   "cell_type": "markdown",
   "metadata": {},
   "source": [
    "### c. Assessing the `img_prd` dataframe"
   ]
  },
  {
   "cell_type": "code",
   "execution_count": 19,
   "metadata": {},
   "outputs": [
    {
     "name": "stdout",
     "output_type": "stream",
     "text": [
      "<class 'pandas.core.frame.DataFrame'>\n",
      "RangeIndex: 2075 entries, 0 to 2074\n",
      "Data columns (total 12 columns):\n",
      "tweet_id    2075 non-null int64\n",
      "jpg_url     2075 non-null object\n",
      "img_num     2075 non-null int64\n",
      "p1          2075 non-null object\n",
      "p1_conf     2075 non-null float64\n",
      "p1_dog      2075 non-null bool\n",
      "p2          2075 non-null object\n",
      "p2_conf     2075 non-null float64\n",
      "p2_dog      2075 non-null bool\n",
      "p3          2075 non-null object\n",
      "p3_conf     2075 non-null float64\n",
      "p3_dog      2075 non-null bool\n",
      "dtypes: bool(3), float64(3), int64(2), object(4)\n",
      "memory usage: 152.1+ KB\n"
     ]
    }
   ],
   "source": [
    "#check the image prediction dataframe\n",
    "img_prd.info()"
   ]
  },
  {
   "cell_type": "code",
   "execution_count": 20,
   "metadata": {},
   "outputs": [
    {
     "data": {
      "text/html": [
       "<div>\n",
       "<style scoped>\n",
       "    .dataframe tbody tr th:only-of-type {\n",
       "        vertical-align: middle;\n",
       "    }\n",
       "\n",
       "    .dataframe tbody tr th {\n",
       "        vertical-align: top;\n",
       "    }\n",
       "\n",
       "    .dataframe thead th {\n",
       "        text-align: right;\n",
       "    }\n",
       "</style>\n",
       "<table border=\"1\" class=\"dataframe\">\n",
       "  <thead>\n",
       "    <tr style=\"text-align: right;\">\n",
       "      <th></th>\n",
       "      <th>tweet_id</th>\n",
       "      <th>jpg_url</th>\n",
       "      <th>img_num</th>\n",
       "      <th>p1</th>\n",
       "      <th>p1_conf</th>\n",
       "      <th>p1_dog</th>\n",
       "      <th>p2</th>\n",
       "      <th>p2_conf</th>\n",
       "      <th>p2_dog</th>\n",
       "      <th>p3</th>\n",
       "      <th>p3_conf</th>\n",
       "      <th>p3_dog</th>\n",
       "    </tr>\n",
       "  </thead>\n",
       "  <tbody>\n",
       "    <tr>\n",
       "      <th>0</th>\n",
       "      <td>666020888022790149</td>\n",
       "      <td>https://pbs.twimg.com/media/CT4udn0WwAA0aMy.jpg</td>\n",
       "      <td>1</td>\n",
       "      <td>Welsh_springer_spaniel</td>\n",
       "      <td>0.465074</td>\n",
       "      <td>True</td>\n",
       "      <td>collie</td>\n",
       "      <td>0.156665</td>\n",
       "      <td>True</td>\n",
       "      <td>Shetland_sheepdog</td>\n",
       "      <td>0.061428</td>\n",
       "      <td>True</td>\n",
       "    </tr>\n",
       "    <tr>\n",
       "      <th>1</th>\n",
       "      <td>666029285002620928</td>\n",
       "      <td>https://pbs.twimg.com/media/CT42GRgUYAA5iDo.jpg</td>\n",
       "      <td>1</td>\n",
       "      <td>redbone</td>\n",
       "      <td>0.506826</td>\n",
       "      <td>True</td>\n",
       "      <td>miniature_pinscher</td>\n",
       "      <td>0.074192</td>\n",
       "      <td>True</td>\n",
       "      <td>Rhodesian_ridgeback</td>\n",
       "      <td>0.072010</td>\n",
       "      <td>True</td>\n",
       "    </tr>\n",
       "    <tr>\n",
       "      <th>2</th>\n",
       "      <td>666033412701032449</td>\n",
       "      <td>https://pbs.twimg.com/media/CT4521TWwAEvMyu.jpg</td>\n",
       "      <td>1</td>\n",
       "      <td>German_shepherd</td>\n",
       "      <td>0.596461</td>\n",
       "      <td>True</td>\n",
       "      <td>malinois</td>\n",
       "      <td>0.138584</td>\n",
       "      <td>True</td>\n",
       "      <td>bloodhound</td>\n",
       "      <td>0.116197</td>\n",
       "      <td>True</td>\n",
       "    </tr>\n",
       "    <tr>\n",
       "      <th>3</th>\n",
       "      <td>666044226329800704</td>\n",
       "      <td>https://pbs.twimg.com/media/CT5Dr8HUEAA-lEu.jpg</td>\n",
       "      <td>1</td>\n",
       "      <td>Rhodesian_ridgeback</td>\n",
       "      <td>0.408143</td>\n",
       "      <td>True</td>\n",
       "      <td>redbone</td>\n",
       "      <td>0.360687</td>\n",
       "      <td>True</td>\n",
       "      <td>miniature_pinscher</td>\n",
       "      <td>0.222752</td>\n",
       "      <td>True</td>\n",
       "    </tr>\n",
       "    <tr>\n",
       "      <th>4</th>\n",
       "      <td>666049248165822465</td>\n",
       "      <td>https://pbs.twimg.com/media/CT5IQmsXIAAKY4A.jpg</td>\n",
       "      <td>1</td>\n",
       "      <td>miniature_pinscher</td>\n",
       "      <td>0.560311</td>\n",
       "      <td>True</td>\n",
       "      <td>Rottweiler</td>\n",
       "      <td>0.243682</td>\n",
       "      <td>True</td>\n",
       "      <td>Doberman</td>\n",
       "      <td>0.154629</td>\n",
       "      <td>True</td>\n",
       "    </tr>\n",
       "  </tbody>\n",
       "</table>\n",
       "</div>"
      ],
      "text/plain": [
       "             tweet_id                                          jpg_url  \\\n",
       "0  666020888022790149  https://pbs.twimg.com/media/CT4udn0WwAA0aMy.jpg   \n",
       "1  666029285002620928  https://pbs.twimg.com/media/CT42GRgUYAA5iDo.jpg   \n",
       "2  666033412701032449  https://pbs.twimg.com/media/CT4521TWwAEvMyu.jpg   \n",
       "3  666044226329800704  https://pbs.twimg.com/media/CT5Dr8HUEAA-lEu.jpg   \n",
       "4  666049248165822465  https://pbs.twimg.com/media/CT5IQmsXIAAKY4A.jpg   \n",
       "\n",
       "   img_num                      p1   p1_conf  p1_dog                  p2  \\\n",
       "0        1  Welsh_springer_spaniel  0.465074    True              collie   \n",
       "1        1                 redbone  0.506826    True  miniature_pinscher   \n",
       "2        1         German_shepherd  0.596461    True            malinois   \n",
       "3        1     Rhodesian_ridgeback  0.408143    True             redbone   \n",
       "4        1      miniature_pinscher  0.560311    True          Rottweiler   \n",
       "\n",
       "    p2_conf  p2_dog                   p3   p3_conf  p3_dog  \n",
       "0  0.156665    True    Shetland_sheepdog  0.061428    True  \n",
       "1  0.074192    True  Rhodesian_ridgeback  0.072010    True  \n",
       "2  0.138584    True           bloodhound  0.116197    True  \n",
       "3  0.360687    True   miniature_pinscher  0.222752    True  \n",
       "4  0.243682    True             Doberman  0.154629    True  "
      ]
     },
     "execution_count": 20,
     "metadata": {},
     "output_type": "execute_result"
    }
   ],
   "source": [
    "img_prd.head()"
   ]
  },
  {
   "cell_type": "code",
   "execution_count": 21,
   "metadata": {},
   "outputs": [
    {
     "data": {
      "text/html": [
       "<div>\n",
       "<style scoped>\n",
       "    .dataframe tbody tr th:only-of-type {\n",
       "        vertical-align: middle;\n",
       "    }\n",
       "\n",
       "    .dataframe tbody tr th {\n",
       "        vertical-align: top;\n",
       "    }\n",
       "\n",
       "    .dataframe thead th {\n",
       "        text-align: right;\n",
       "    }\n",
       "</style>\n",
       "<table border=\"1\" class=\"dataframe\">\n",
       "  <thead>\n",
       "    <tr style=\"text-align: right;\">\n",
       "      <th></th>\n",
       "      <th>tweet_id</th>\n",
       "      <th>img_num</th>\n",
       "      <th>p1_conf</th>\n",
       "      <th>p2_conf</th>\n",
       "      <th>p3_conf</th>\n",
       "    </tr>\n",
       "  </thead>\n",
       "  <tbody>\n",
       "    <tr>\n",
       "      <th>count</th>\n",
       "      <td>2.075000e+03</td>\n",
       "      <td>2075.000000</td>\n",
       "      <td>2075.000000</td>\n",
       "      <td>2.075000e+03</td>\n",
       "      <td>2.075000e+03</td>\n",
       "    </tr>\n",
       "    <tr>\n",
       "      <th>mean</th>\n",
       "      <td>7.384514e+17</td>\n",
       "      <td>1.203855</td>\n",
       "      <td>0.594548</td>\n",
       "      <td>1.345886e-01</td>\n",
       "      <td>6.032417e-02</td>\n",
       "    </tr>\n",
       "    <tr>\n",
       "      <th>std</th>\n",
       "      <td>6.785203e+16</td>\n",
       "      <td>0.561875</td>\n",
       "      <td>0.271174</td>\n",
       "      <td>1.006657e-01</td>\n",
       "      <td>5.090593e-02</td>\n",
       "    </tr>\n",
       "    <tr>\n",
       "      <th>min</th>\n",
       "      <td>6.660209e+17</td>\n",
       "      <td>1.000000</td>\n",
       "      <td>0.044333</td>\n",
       "      <td>1.011300e-08</td>\n",
       "      <td>1.740170e-10</td>\n",
       "    </tr>\n",
       "    <tr>\n",
       "      <th>25%</th>\n",
       "      <td>6.764835e+17</td>\n",
       "      <td>1.000000</td>\n",
       "      <td>0.364412</td>\n",
       "      <td>5.388625e-02</td>\n",
       "      <td>1.622240e-02</td>\n",
       "    </tr>\n",
       "    <tr>\n",
       "      <th>50%</th>\n",
       "      <td>7.119988e+17</td>\n",
       "      <td>1.000000</td>\n",
       "      <td>0.588230</td>\n",
       "      <td>1.181810e-01</td>\n",
       "      <td>4.944380e-02</td>\n",
       "    </tr>\n",
       "    <tr>\n",
       "      <th>75%</th>\n",
       "      <td>7.932034e+17</td>\n",
       "      <td>1.000000</td>\n",
       "      <td>0.843855</td>\n",
       "      <td>1.955655e-01</td>\n",
       "      <td>9.180755e-02</td>\n",
       "    </tr>\n",
       "    <tr>\n",
       "      <th>max</th>\n",
       "      <td>8.924206e+17</td>\n",
       "      <td>4.000000</td>\n",
       "      <td>1.000000</td>\n",
       "      <td>4.880140e-01</td>\n",
       "      <td>2.734190e-01</td>\n",
       "    </tr>\n",
       "  </tbody>\n",
       "</table>\n",
       "</div>"
      ],
      "text/plain": [
       "           tweet_id      img_num      p1_conf       p2_conf       p3_conf\n",
       "count  2.075000e+03  2075.000000  2075.000000  2.075000e+03  2.075000e+03\n",
       "mean   7.384514e+17     1.203855     0.594548  1.345886e-01  6.032417e-02\n",
       "std    6.785203e+16     0.561875     0.271174  1.006657e-01  5.090593e-02\n",
       "min    6.660209e+17     1.000000     0.044333  1.011300e-08  1.740170e-10\n",
       "25%    6.764835e+17     1.000000     0.364412  5.388625e-02  1.622240e-02\n",
       "50%    7.119988e+17     1.000000     0.588230  1.181810e-01  4.944380e-02\n",
       "75%    7.932034e+17     1.000000     0.843855  1.955655e-01  9.180755e-02\n",
       "max    8.924206e+17     4.000000     1.000000  4.880140e-01  2.734190e-01"
      ]
     },
     "execution_count": 21,
     "metadata": {},
     "output_type": "execute_result"
    }
   ],
   "source": [
    "img_prd.describe()"
   ]
  },
  {
   "cell_type": "code",
   "execution_count": 22,
   "metadata": {},
   "outputs": [
    {
     "data": {
      "text/plain": [
       "0"
      ]
     },
     "execution_count": 22,
     "metadata": {},
     "output_type": "execute_result"
    }
   ],
   "source": [
    "#check for any duplicates\n",
    "img_prd.duplicated().sum()"
   ]
  },
  {
   "cell_type": "markdown",
   "metadata": {},
   "source": [
    "### Quality issues \n",
    "\n",
    "**These are issues that involve the content of the data e.g completeness of the data, accuracy of the data, is the data format consistent, etc.**\n",
    "\n",
    ">General\n",
    "1. The `tweet_id` column type is integer instead of string (object type)\n",
    "\n",
    ">Image Prediction file (`img_prd`)\n",
    "2. There are only **2075** entries instead of **2356** (missing values issue)\n",
    "3. In the **\"p1\", \"p2\", and \"p3\"** columns, the names are separated by an underscore \"_\" instead of a whitespace (validity issue)\n",
    "4. In the **\"p1\", \"p2\", and \"p3\"** columns, some breed names begin with Upper case letters whereas some begin with lower case letters (consistency issue)\n",
    " \n",
    ">Twitter API file (`twitter_data`)\n",
    "5. There are only **2354** values instead of **2356** (missing values issue)\n",
    "\n",
    ">Twitter archive file (`tw_archive`)\n",
    "6. Some names are invalid e.g \"a\", \"an\", \"None\", \"incredibly\", \"quite\" etc \n",
    "7. (a). Row with `tweet_id` **\"666287406224695000\"** shows a `rating_numerator` of 1 and `rating_denominator` of 2, however on careful observation, the text states that the rating is 9/10, so `rating_numerator` should be 9 and `rating_denominator` 10\n",
    "   <br />(b). Row with `tweet_id` **\"835246439529840000\"** shows a `rating_numerator` of 960 and `rating_denominator` of 0 i.e rating is 960/0, this is invalid, as stated in the text column\n",
    "8. The `timestamp` column has trailing \"+0000\"\n",
    "9. The `timestamp` column type is string instead of datetime\n",
    "10. There are **181** tweets that are retweets and **78** replies to tweets that need to be deleted\n",
    "\n"
   ]
  },
  {
   "cell_type": "markdown",
   "metadata": {
    "extensions": {
     "jupyter_dashboards": {
      "version": 1,
      "views": {
       "grid_default": {
        "col": 0,
        "height": 7,
        "hidden": false,
        "row": 40,
        "width": 12
       },
       "report_default": {
        "hidden": false
       }
      }
     }
    }
   },
   "source": [
    "### Tidiness issues\n",
    "1. Four redundant columns in `tw_archive` dataframe - doggo, floofer, pupper, and puppo - This goes against the second condition for tidy data (every column must be a variable)\n",
    "\n",
    "2. The 3 dataframes are all related but separated which is an example of messy/untidy data as documented in [the tidy data documentation](https://cran.r-project.org/web/packages/tidyr/vignettes/tidy-data.html) - _A single observational unit is stored in multiple tables._"
   ]
  },
  {
   "cell_type": "markdown",
   "metadata": {
    "extensions": {
     "jupyter_dashboards": {
      "version": 1,
      "views": {
       "grid_default": {
        "col": 4,
        "height": 4,
        "hidden": false,
        "row": 32,
        "width": 4
       },
       "report_default": {
        "hidden": false
       }
      }
     }
    }
   },
   "source": [
    "## Cleaning Data\n",
    "\n",
    "<a id=\"cd\"></a>\n",
    "In this section, clean **all** of the issues you documented while assessing. \n",
    "\n",
    "**Note:** Make a copy of the original data before cleaning. Cleaning includes merging individual pieces of data according to the rules of [tidy data](https://cran.r-project.org/web/packages/tidyr/vignettes/tidy-data.html). The result should be a high-quality and tidy master pandas DataFrame (or DataFrames, if appropriate)."
   ]
  },
  {
   "cell_type": "code",
   "execution_count": 23,
   "metadata": {},
   "outputs": [],
   "source": [
    "# Make copies of original pieces of data\n",
    "twitter_data_clean = twitter_data.copy()\n",
    "tw_archive_clean = tw_archive.copy()\n",
    "img_prd_clean = img_prd.copy()"
   ]
  },
  {
   "cell_type": "markdown",
   "metadata": {},
   "source": [
    "### Issue #1: The tweet_id column type is integer instead of string (object type)"
   ]
  },
  {
   "cell_type": "markdown",
   "metadata": {
    "collapsed": true,
    "extensions": {
     "jupyter_dashboards": {
      "version": 1,
      "views": {
       "grid_default": {
        "hidden": true
       },
       "report_default": {
        "hidden": true
       }
      }
     }
    }
   },
   "source": [
    "#### Define\n",
    "Change the tweet_id datatype in the 3 dataframes to string"
   ]
  },
  {
   "cell_type": "markdown",
   "metadata": {},
   "source": [
    "#### Code"
   ]
  },
  {
   "cell_type": "code",
   "execution_count": 24,
   "metadata": {},
   "outputs": [],
   "source": [
    "twitter_data_clean.tweet_id = twitter_data_clean.tweet_id.astype(str)\n",
    "tw_archive_clean.tweet_id = tw_archive_clean.tweet_id.astype(str)\n",
    "img_prd_clean.tweet_id = img_prd_clean.tweet_id.astype(str)"
   ]
  },
  {
   "cell_type": "markdown",
   "metadata": {},
   "source": [
    "#### Test"
   ]
  },
  {
   "cell_type": "code",
   "execution_count": 25,
   "metadata": {},
   "outputs": [
    {
     "name": "stdout",
     "output_type": "stream",
     "text": [
      "object\n",
      "object\n",
      "object\n"
     ]
    }
   ],
   "source": [
    "#s1 = \"The dataype of tweet id in the twitter_data_clean dataframe is \"\n",
    "#s2 = \"The dataype of tweet id in the tw_archive_clean dataframe is \" \n",
    "#s3 = \"The dataype of tweet id in the img_prd_clean dataframe is \"\n",
    "\n",
    "#Check the datatypes\n",
    "print(twitter_data_clean.tweet_id.dtypes)\n",
    "print(tw_archive_clean.tweet_id.dtypes)\n",
    "print(img_prd_clean.tweet_id.dtypes)"
   ]
  },
  {
   "cell_type": "markdown",
   "metadata": {},
   "source": [
    "### Issue #3: In the \"p1\", \"p2\", and \"p3\" columns, the names are separated by an underscore \"_\" instead of a whitespace (validity issue)"
   ]
  },
  {
   "cell_type": "markdown",
   "metadata": {},
   "source": [
    "#### Define:\n",
    "\n",
    "Replace underscores in columns p1, p2 and p3 of `img_prd` dataframe to whitespace"
   ]
  },
  {
   "cell_type": "markdown",
   "metadata": {},
   "source": [
    "#### Code:"
   ]
  },
  {
   "cell_type": "code",
   "execution_count": 26,
   "metadata": {},
   "outputs": [],
   "source": [
    "img_prd_clean['p1'] = img_prd_clean['p1'].str.replace('_', \" \")\n",
    "img_prd_clean['p2'] = img_prd_clean['p2'].str.replace('_', \" \")\n",
    "img_prd_clean['p3'] = img_prd_clean['p3'].str.replace('_', \" \")"
   ]
  },
  {
   "cell_type": "markdown",
   "metadata": {},
   "source": [
    "#### Test: "
   ]
  },
  {
   "cell_type": "code",
   "execution_count": 27,
   "metadata": {},
   "outputs": [
    {
     "data": {
      "text/plain": [
       "212                      pot\n",
       "690                Chihuahua\n",
       "1620                    chow\n",
       "1537    Bernese mountain dog\n",
       "1820     Rhodesian ridgeback\n",
       "Name: p1, dtype: object"
      ]
     },
     "execution_count": 27,
     "metadata": {},
     "output_type": "execute_result"
    }
   ],
   "source": [
    "img_prd_clean['p1'].sample(5)"
   ]
  },
  {
   "cell_type": "markdown",
   "metadata": {},
   "source": [
    "### Issue #4: In the \"p1\", \"p2\", and \"p3\" columns, some breed names begin with Upper case letters whereas some begin with lower case letters (consistency issue)"
   ]
  },
  {
   "cell_type": "markdown",
   "metadata": {},
   "source": [
    "#### Define:\n",
    "Make all breed names title case"
   ]
  },
  {
   "cell_type": "markdown",
   "metadata": {},
   "source": [
    "#### Code"
   ]
  },
  {
   "cell_type": "code",
   "execution_count": 28,
   "metadata": {},
   "outputs": [],
   "source": [
    "img_prd_clean['p1'] = img_prd_clean['p1'].str.title()\n",
    "img_prd_clean['p2'] = img_prd_clean['p2'].str.title()\n",
    "img_prd_clean['p3'] = img_prd_clean['p3'].str.title()"
   ]
  },
  {
   "cell_type": "markdown",
   "metadata": {},
   "source": [
    "#### Test"
   ]
  },
  {
   "cell_type": "code",
   "execution_count": 29,
   "metadata": {},
   "outputs": [
    {
     "data": {
      "text/plain": [
       "1644        Golden Retriever\n",
       "703            Shopping Cart\n",
       "1470              Toy Poodle\n",
       "2058        Golden Retriever\n",
       "849     Old English Sheepdog\n",
       "Name: p1, dtype: object"
      ]
     },
     "execution_count": 29,
     "metadata": {},
     "output_type": "execute_result"
    }
   ],
   "source": [
    "img_prd_clean['p1'].sample(5)"
   ]
  },
  {
   "cell_type": "markdown",
   "metadata": {},
   "source": [
    "### Issue #6: Some names are invalid e.g \"a\", \"an\", \"None\", \"incredibly\", \"quite\" etc"
   ]
  },
  {
   "cell_type": "markdown",
   "metadata": {},
   "source": [
    "#### Define:\n",
    "\n",
    "Replace the invalide names with NaN"
   ]
  },
  {
   "cell_type": "markdown",
   "metadata": {},
   "source": [
    "#### Code:\n"
   ]
  },
  {
   "cell_type": "code",
   "execution_count": 30,
   "metadata": {},
   "outputs": [],
   "source": [
    "invalid_n = ['a','all','an','by','getting','his','incredibly','infuriating','just','life','None','my','not','one','the']\n",
    "tw_archive_clean.name.replace(invalid_n, np.nan, inplace=True)"
   ]
  },
  {
   "cell_type": "markdown",
   "metadata": {},
   "source": [
    "#### Test:\n"
   ]
  },
  {
   "cell_type": "code",
   "execution_count": 31,
   "metadata": {},
   "outputs": [
    {
     "data": {
      "text/plain": [
       "Series([], Name: name, dtype: object)"
      ]
     },
     "execution_count": 31,
     "metadata": {},
     "output_type": "execute_result"
    }
   ],
   "source": [
    "tw_archive_clean.name[tw_archive_clean.name==\"all\"]"
   ]
  },
  {
   "cell_type": "markdown",
   "metadata": {},
   "source": [
    "### Issue #7: Row with tweet_id \"666287406224695000\" shows a rating_numerator of 1 and rating_denominator of 2, however on careful observation, the text states that the rating is 9/10, so rating_numerator should be 9 and rating_denominator 10"
   ]
  },
  {
   "cell_type": "markdown",
   "metadata": {},
   "source": [
    "#### Define:\n",
    "\n",
    "Since **2331** values out of a total of **2354** values of the rating_denominator are 10, we can force all denominators to 10 <br />\n",
    "Make the rating_numerator of tweet_id \"666287406224695000\" to 9"
   ]
  },
  {
   "cell_type": "markdown",
   "metadata": {},
   "source": [
    "#### Code:"
   ]
  },
  {
   "cell_type": "code",
   "execution_count": 32,
   "metadata": {},
   "outputs": [],
   "source": [
    "#Force all rating_denominator values to 10\n",
    "tw_archive_clean['rating_denominator'] = 10\n",
    "\n",
    "\n",
    "#Force all rating_numerator values to 20: since most scores are less than or equal to 20\n",
    "tw_archive_clean.loc[tw_archive_clean['rating_numerator']>20, 'rating_numerator'] = 20\n",
    "\n",
    "#Force the rating_numerator value of tweet_id \"666287406224695000\" to 9\n",
    "tw_archive_clean.query(\"tweet_id == '666287406224695000'\").rating_numerator = 9"
   ]
  },
  {
   "cell_type": "markdown",
   "metadata": {},
   "source": [
    "#### Test:"
   ]
  },
  {
   "cell_type": "code",
   "execution_count": 33,
   "metadata": {},
   "outputs": [
    {
     "data": {
      "text/plain": [
       "10    2354\n",
       "Name: rating_denominator, dtype: int64"
      ]
     },
     "execution_count": 33,
     "metadata": {},
     "output_type": "execute_result"
    }
   ],
   "source": [
    "tw_archive_clean.rating_denominator.value_counts()"
   ]
  },
  {
   "cell_type": "code",
   "execution_count": 34,
   "metadata": {},
   "outputs": [
    {
     "data": {
      "text/plain": [
       "12    558\n",
       "11    464\n",
       "10    461\n",
       "13    349\n",
       "9     158\n",
       "8     102\n",
       "7      55\n",
       "14     54\n",
       "5      37\n",
       "6      32\n",
       "20     25\n",
       "3      19\n",
       "4      17\n",
       "1       9\n",
       "2       9\n",
       "0       2\n",
       "15      2\n",
       "17      1\n",
       "Name: rating_numerator, dtype: int64"
      ]
     },
     "execution_count": 34,
     "metadata": {},
     "output_type": "execute_result"
    }
   ],
   "source": [
    "tw_archive_clean.rating_numerator.value_counts()"
   ]
  },
  {
   "cell_type": "code",
   "execution_count": 35,
   "metadata": {},
   "outputs": [
    {
     "data": {
      "text/html": [
       "<div>\n",
       "<style scoped>\n",
       "    .dataframe tbody tr th:only-of-type {\n",
       "        vertical-align: middle;\n",
       "    }\n",
       "\n",
       "    .dataframe tbody tr th {\n",
       "        vertical-align: top;\n",
       "    }\n",
       "\n",
       "    .dataframe thead th {\n",
       "        text-align: right;\n",
       "    }\n",
       "</style>\n",
       "<table border=\"1\" class=\"dataframe\">\n",
       "  <thead>\n",
       "    <tr style=\"text-align: right;\">\n",
       "      <th></th>\n",
       "      <th>tweet_id</th>\n",
       "      <th>in_reply_to_status_id</th>\n",
       "      <th>in_reply_to_user_id</th>\n",
       "      <th>timestamp</th>\n",
       "      <th>source</th>\n",
       "      <th>text</th>\n",
       "      <th>retweeted_status_id</th>\n",
       "      <th>retweeted_status_user_id</th>\n",
       "      <th>retweeted_status_timestamp</th>\n",
       "      <th>expanded_urls</th>\n",
       "      <th>rating_numerator</th>\n",
       "      <th>rating_denominator</th>\n",
       "      <th>name</th>\n",
       "      <th>doggo</th>\n",
       "      <th>floofer</th>\n",
       "      <th>pupper</th>\n",
       "      <th>puppo</th>\n",
       "    </tr>\n",
       "  </thead>\n",
       "  <tbody>\n",
       "  </tbody>\n",
       "</table>\n",
       "</div>"
      ],
      "text/plain": [
       "Empty DataFrame\n",
       "Columns: [tweet_id, in_reply_to_status_id, in_reply_to_user_id, timestamp, source, text, retweeted_status_id, retweeted_status_user_id, retweeted_status_timestamp, expanded_urls, rating_numerator, rating_denominator, name, doggo, floofer, pupper, puppo]\n",
       "Index: []"
      ]
     },
     "execution_count": 35,
     "metadata": {},
     "output_type": "execute_result"
    }
   ],
   "source": [
    "#tw_archive_clean.loc[tw_archive_clean[\"tweet_id\"] == 666287406224695000]\n",
    "#check if tweet_id 666287406224695000 is still in the dataframe\n",
    "tw_archive_clean.query('tweet_id == \"666287406224695000\"')"
   ]
  },
  {
   "cell_type": "markdown",
   "metadata": {},
   "source": [
    "### Issue #8: The timestamp column has trailing \"+0000\""
   ]
  },
  {
   "cell_type": "markdown",
   "metadata": {},
   "source": [
    "#### Define:\n",
    "\n",
    "Strip off trailing \"+0000\" in timestamp column"
   ]
  },
  {
   "cell_type": "markdown",
   "metadata": {},
   "source": [
    "#### Code:"
   ]
  },
  {
   "cell_type": "code",
   "execution_count": 36,
   "metadata": {},
   "outputs": [],
   "source": [
    "#Strip off trailing \"+0000\"\n",
    "tw_archive_clean.timestamp = tw_archive_clean['timestamp'].str[:-5].str.strip()\n"
   ]
  },
  {
   "cell_type": "markdown",
   "metadata": {},
   "source": [
    "#### Test:"
   ]
  },
  {
   "cell_type": "code",
   "execution_count": 37,
   "metadata": {},
   "outputs": [
    {
     "data": {
      "text/plain": [
       "1629    2016-01-06 02:49:55\n",
       "692     2016-10-15 02:04:45\n",
       "1249    2016-03-19 21:41:44\n",
       "287     2017-03-06 01:26:54\n",
       "1203    2016-04-02 15:25:47\n",
       "Name: timestamp, dtype: object"
      ]
     },
     "execution_count": 37,
     "metadata": {},
     "output_type": "execute_result"
    }
   ],
   "source": [
    "tw_archive_clean.timestamp.sample(5)"
   ]
  },
  {
   "cell_type": "markdown",
   "metadata": {},
   "source": [
    "### Issue #9: The timestamp column type is string instead of datetime"
   ]
  },
  {
   "cell_type": "markdown",
   "metadata": {},
   "source": [
    "#### Define:\n",
    "\n",
    "Change the datatype of timestamp to datetime"
   ]
  },
  {
   "cell_type": "markdown",
   "metadata": {},
   "source": [
    "#### Code:"
   ]
  },
  {
   "cell_type": "code",
   "execution_count": 38,
   "metadata": {},
   "outputs": [],
   "source": [
    "#convert timestamp datatype to datetime\n",
    "tw_archive_clean['timestamp'] = pd.to_datetime(tw_archive_clean['timestamp'])\n",
    "\n",
    "#change the name of column \"timestamp\" to \"tweet_date\"\n",
    "#convert timestamp datatype to datetime\n",
    "tw_archive_clean.rename(columns={'timestamp':'tweet_date'}, inplace=True)"
   ]
  },
  {
   "cell_type": "markdown",
   "metadata": {},
   "source": [
    "#### Test:"
   ]
  },
  {
   "cell_type": "code",
   "execution_count": 39,
   "metadata": {},
   "outputs": [
    {
     "data": {
      "text/plain": [
       "dtype('<M8[ns]')"
      ]
     },
     "execution_count": 39,
     "metadata": {},
     "output_type": "execute_result"
    }
   ],
   "source": [
    "tw_archive_clean['tweet_date'].dtypes"
   ]
  },
  {
   "cell_type": "markdown",
   "metadata": {},
   "source": [
    "### Issue #10: There are 181 tweets that are retweets and need to be deleted"
   ]
  },
  {
   "cell_type": "markdown",
   "metadata": {},
   "source": [
    "#### Define:\n",
    "\n",
    "Delete records that are retweets in the `tw_archive` dataframe and drop the following columns: <br /> \n",
    "- retweeted_status_id\n",
    "- retweeted_status_user_id      \n",
    "- retweeted_status_timestamp \n",
    "- in_reply_to_status_id        \n",
    "- in_reply_to_user_id "
   ]
  },
  {
   "cell_type": "markdown",
   "metadata": {},
   "source": [
    "#### Code"
   ]
  },
  {
   "cell_type": "code",
   "execution_count": 40,
   "metadata": {},
   "outputs": [],
   "source": [
    "#Filter off rows with retweet status\n",
    "tw_archive_clean.drop(tw_archive_clean[tw_archive_clean.retweeted_status_id.notnull()].index, inplace = True)\n",
    "\n",
    "#Filter off rows with in_reply status\n",
    "tw_archive_clean.drop(tw_archive_clean[tw_archive_clean.in_reply_to_status_id.notnull()].index, inplace = True)\n",
    "\n",
    "#Drop columns relating to retweet status\n",
    "tw_archive_clean.drop(columns=['retweeted_status_id','retweeted_status_user_id', 'retweeted_status_timestamp', 'in_reply_to_status_id', 'in_reply_to_user_id'], inplace = True)"
   ]
  },
  {
   "cell_type": "markdown",
   "metadata": {},
   "source": [
    "#### Test"
   ]
  },
  {
   "cell_type": "code",
   "execution_count": 41,
   "metadata": {},
   "outputs": [
    {
     "name": "stdout",
     "output_type": "stream",
     "text": [
      "<class 'pandas.core.frame.DataFrame'>\n",
      "Int64Index: 2095 entries, 2 to 2355\n",
      "Data columns (total 12 columns):\n",
      "tweet_id              2095 non-null object\n",
      "tweet_date            2095 non-null datetime64[ns]\n",
      "source                2095 non-null object\n",
      "text                  2095 non-null object\n",
      "expanded_urls         2092 non-null object\n",
      "rating_numerator      2095 non-null int64\n",
      "rating_denominator    2095 non-null int64\n",
      "name                  1405 non-null object\n",
      "doggo                 2095 non-null object\n",
      "floofer               2095 non-null object\n",
      "pupper                2095 non-null object\n",
      "puppo                 2095 non-null object\n",
      "dtypes: datetime64[ns](1), int64(2), object(9)\n",
      "memory usage: 212.8+ KB\n"
     ]
    }
   ],
   "source": [
    "tw_archive_clean.info()"
   ]
  },
  {
   "cell_type": "markdown",
   "metadata": {},
   "source": [
    "### Tidyness Issue #1: Four redundant columns in tw_archive dataframe - doggo, floofer, pupper, and puppo"
   ]
  },
  {
   "cell_type": "markdown",
   "metadata": {},
   "source": [
    "#### Define:\n",
    "\n",
    "Combine the 4 columns to one"
   ]
  },
  {
   "cell_type": "markdown",
   "metadata": {},
   "source": [
    "#### Code"
   ]
  },
  {
   "cell_type": "code",
   "execution_count": 42,
   "metadata": {},
   "outputs": [],
   "source": [
    "tw_archive_clean = tw_archive_clean.melt(id_vars=['tweet_id','tweet_date','source','text','expanded_urls',\n",
    "                                                  'rating_numerator','rating_denominator','name'], \n",
    "                                         var_name='dog_stage', value_name='val_name')\n",
    "\n",
    "tw_archive_clean = tw_archive_clean[tw_archive_clean.val_name != \"None\"]\n",
    "\n",
    "\n",
    "#tw_archive_clean2 = tw_archive_clean[tw_archive_clean.dog_stage == \"None\"]\n"
   ]
  },
  {
   "cell_type": "markdown",
   "metadata": {},
   "source": [
    "#### Test"
   ]
  },
  {
   "cell_type": "code",
   "execution_count": 43,
   "metadata": {},
   "outputs": [
    {
     "data": {
      "text/html": [
       "<div>\n",
       "<style scoped>\n",
       "    .dataframe tbody tr th:only-of-type {\n",
       "        vertical-align: middle;\n",
       "    }\n",
       "\n",
       "    .dataframe tbody tr th {\n",
       "        vertical-align: top;\n",
       "    }\n",
       "\n",
       "    .dataframe thead th {\n",
       "        text-align: right;\n",
       "    }\n",
       "</style>\n",
       "<table border=\"1\" class=\"dataframe\">\n",
       "  <thead>\n",
       "    <tr style=\"text-align: right;\">\n",
       "      <th></th>\n",
       "      <th>tweet_id</th>\n",
       "      <th>tweet_date</th>\n",
       "      <th>source</th>\n",
       "      <th>text</th>\n",
       "      <th>expanded_urls</th>\n",
       "      <th>rating_numerator</th>\n",
       "      <th>rating_denominator</th>\n",
       "      <th>name</th>\n",
       "      <th>dog_stage</th>\n",
       "      <th>val_name</th>\n",
       "    </tr>\n",
       "  </thead>\n",
       "  <tbody>\n",
       "    <tr>\n",
       "      <th>7</th>\n",
       "      <td>890240255349198849</td>\n",
       "      <td>2017-07-26 15:59:51</td>\n",
       "      <td>&lt;a href=\"http://twitter.com/download/iphone\" r...</td>\n",
       "      <td>This is Cassie. She is a college pup. Studying...</td>\n",
       "      <td>https://twitter.com/dog_rates/status/890240255...</td>\n",
       "      <td>14</td>\n",
       "      <td>10</td>\n",
       "      <td>Cassie</td>\n",
       "      <td>doggo</td>\n",
       "      <td>doggo</td>\n",
       "    </tr>\n",
       "    <tr>\n",
       "      <th>37</th>\n",
       "      <td>884162670584377345</td>\n",
       "      <td>2017-07-09 21:29:42</td>\n",
       "      <td>&lt;a href=\"http://twitter.com/download/iphone\" r...</td>\n",
       "      <td>Meet Yogi. He doesn't have any important dog m...</td>\n",
       "      <td>https://twitter.com/dog_rates/status/884162670...</td>\n",
       "      <td>12</td>\n",
       "      <td>10</td>\n",
       "      <td>Yogi</td>\n",
       "      <td>doggo</td>\n",
       "      <td>doggo</td>\n",
       "    </tr>\n",
       "    <tr>\n",
       "      <th>84</th>\n",
       "      <td>872967104147763200</td>\n",
       "      <td>2017-06-09 00:02:31</td>\n",
       "      <td>&lt;a href=\"http://twitter.com/download/iphone\" r...</td>\n",
       "      <td>Here's a very large dog. He has a date later. ...</td>\n",
       "      <td>https://twitter.com/dog_rates/status/872967104...</td>\n",
       "      <td>12</td>\n",
       "      <td>10</td>\n",
       "      <td>NaN</td>\n",
       "      <td>doggo</td>\n",
       "      <td>doggo</td>\n",
       "    </tr>\n",
       "    <tr>\n",
       "      <th>92</th>\n",
       "      <td>871515927908634625</td>\n",
       "      <td>2017-06-04 23:56:03</td>\n",
       "      <td>&lt;a href=\"http://twitter.com/download/iphone\" r...</td>\n",
       "      <td>This is Napolean. He's a Raggedy East Nicaragu...</td>\n",
       "      <td>https://twitter.com/dog_rates/status/871515927...</td>\n",
       "      <td>12</td>\n",
       "      <td>10</td>\n",
       "      <td>Napolean</td>\n",
       "      <td>doggo</td>\n",
       "      <td>doggo</td>\n",
       "    </tr>\n",
       "    <tr>\n",
       "      <th>93</th>\n",
       "      <td>871102520638267392</td>\n",
       "      <td>2017-06-03 20:33:19</td>\n",
       "      <td>&lt;a href=\"http://twitter.com/download/iphone\" r...</td>\n",
       "      <td>Never doubt a doggo 14/10 https://t.co/AbBLh2FZCH</td>\n",
       "      <td>https://twitter.com/animalcog/status/871075758...</td>\n",
       "      <td>14</td>\n",
       "      <td>10</td>\n",
       "      <td>NaN</td>\n",
       "      <td>doggo</td>\n",
       "      <td>doggo</td>\n",
       "    </tr>\n",
       "    <tr>\n",
       "      <th>102</th>\n",
       "      <td>869596645499047938</td>\n",
       "      <td>2017-05-30 16:49:31</td>\n",
       "      <td>&lt;a href=\"http://twitter.com/download/iphone\" r...</td>\n",
       "      <td>This is Scout. He just graduated. Officially a...</td>\n",
       "      <td>https://twitter.com/dog_rates/status/869596645...</td>\n",
       "      <td>12</td>\n",
       "      <td>10</td>\n",
       "      <td>Scout</td>\n",
       "      <td>doggo</td>\n",
       "      <td>doggo</td>\n",
       "    </tr>\n",
       "    <tr>\n",
       "      <th>141</th>\n",
       "      <td>858843525470990336</td>\n",
       "      <td>2017-05-01 00:40:27</td>\n",
       "      <td>&lt;a href=\"http://twitter.com/download/iphone\" r...</td>\n",
       "      <td>I have stumbled puppon a doggo painting party....</td>\n",
       "      <td>https://twitter.com/dog_rates/status/858843525...</td>\n",
       "      <td>13</td>\n",
       "      <td>10</td>\n",
       "      <td>NaN</td>\n",
       "      <td>doggo</td>\n",
       "      <td>doggo</td>\n",
       "    </tr>\n",
       "    <tr>\n",
       "      <th>152</th>\n",
       "      <td>855851453814013952</td>\n",
       "      <td>2017-04-22 18:31:02</td>\n",
       "      <td>&lt;a href=\"http://twitter.com/download/iphone\" r...</td>\n",
       "      <td>Here's a puppo participating in the #ScienceMa...</td>\n",
       "      <td>https://twitter.com/dog_rates/status/855851453...</td>\n",
       "      <td>13</td>\n",
       "      <td>10</td>\n",
       "      <td>NaN</td>\n",
       "      <td>doggo</td>\n",
       "      <td>doggo</td>\n",
       "    </tr>\n",
       "    <tr>\n",
       "      <th>159</th>\n",
       "      <td>854010172552949760</td>\n",
       "      <td>2017-04-17 16:34:26</td>\n",
       "      <td>&lt;a href=\"http://twitter.com/download/iphone\" r...</td>\n",
       "      <td>At first I thought this was a shy doggo, but i...</td>\n",
       "      <td>https://twitter.com/dog_rates/status/854010172...</td>\n",
       "      <td>11</td>\n",
       "      <td>10</td>\n",
       "      <td>NaN</td>\n",
       "      <td>doggo</td>\n",
       "      <td>doggo</td>\n",
       "    </tr>\n",
       "    <tr>\n",
       "      <th>190</th>\n",
       "      <td>846514051647705089</td>\n",
       "      <td>2017-03-28 00:07:32</td>\n",
       "      <td>&lt;a href=\"http://twitter.com/download/iphone\" r...</td>\n",
       "      <td>This is Barney. He's an elder doggo. Hitches a...</td>\n",
       "      <td>https://twitter.com/dog_rates/status/846514051...</td>\n",
       "      <td>13</td>\n",
       "      <td>10</td>\n",
       "      <td>Barney</td>\n",
       "      <td>doggo</td>\n",
       "      <td>doggo</td>\n",
       "    </tr>\n",
       "    <tr>\n",
       "      <th>197</th>\n",
       "      <td>845397057150107648</td>\n",
       "      <td>2017-03-24 22:08:59</td>\n",
       "      <td>&lt;a href=\"http://twitter.com/download/iphone\" r...</td>\n",
       "      <td>Say hello to Mimosa. She's an emotional suppor...</td>\n",
       "      <td>https://www.gofundme.com/help-save-a-pup,https...</td>\n",
       "      <td>13</td>\n",
       "      <td>10</td>\n",
       "      <td>Mimosa</td>\n",
       "      <td>doggo</td>\n",
       "      <td>doggo</td>\n",
       "    </tr>\n",
       "    <tr>\n",
       "      <th>235</th>\n",
       "      <td>836753516572119041</td>\n",
       "      <td>2017-03-01 01:42:39</td>\n",
       "      <td>&lt;a href=\"http://twitter.com/download/iphone\" r...</td>\n",
       "      <td>This is Meera. She just heard about taxes and ...</td>\n",
       "      <td>https://twitter.com/dog_rates/status/836753516...</td>\n",
       "      <td>12</td>\n",
       "      <td>10</td>\n",
       "      <td>Meera</td>\n",
       "      <td>doggo</td>\n",
       "      <td>doggo</td>\n",
       "    </tr>\n",
       "    <tr>\n",
       "      <th>247</th>\n",
       "      <td>834574053763584002</td>\n",
       "      <td>2017-02-23 01:22:14</td>\n",
       "      <td>&lt;a href=\"http://twitter.com/download/iphone\" r...</td>\n",
       "      <td>Here's a doggo fully pupared for a shower. H*c...</td>\n",
       "      <td>https://twitter.com/dog_rates/status/834574053...</td>\n",
       "      <td>13</td>\n",
       "      <td>10</td>\n",
       "      <td>NaN</td>\n",
       "      <td>doggo</td>\n",
       "      <td>doggo</td>\n",
       "    </tr>\n",
       "    <tr>\n",
       "      <th>251</th>\n",
       "      <td>834089966724603904</td>\n",
       "      <td>2017-02-21 17:18:39</td>\n",
       "      <td>&lt;a href=\"http://twitter.com/download/iphone\" r...</td>\n",
       "      <td>DOGGO ON THE LOOSE I REPEAT DOGGO ON THE LOOSE...</td>\n",
       "      <td>https://twitter.com/stevekopack/status/8340866...</td>\n",
       "      <td>10</td>\n",
       "      <td>10</td>\n",
       "      <td>NaN</td>\n",
       "      <td>doggo</td>\n",
       "      <td>doggo</td>\n",
       "    </tr>\n",
       "    <tr>\n",
       "      <th>258</th>\n",
       "      <td>832998151111966721</td>\n",
       "      <td>2017-02-18 17:00:10</td>\n",
       "      <td>&lt;a href=\"http://twitter.com/download/iphone\" r...</td>\n",
       "      <td>This is Rhino. He arrived at a shelter with an...</td>\n",
       "      <td>https://twitter.com/dog_rates/status/832998151...</td>\n",
       "      <td>13</td>\n",
       "      <td>10</td>\n",
       "      <td>Rhino</td>\n",
       "      <td>doggo</td>\n",
       "      <td>doggo</td>\n",
       "    </tr>\n",
       "    <tr>\n",
       "      <th>265</th>\n",
       "      <td>832273440279240704</td>\n",
       "      <td>2017-02-16 17:00:25</td>\n",
       "      <td>&lt;a href=\"http://twitter.com/download/iphone\" r...</td>\n",
       "      <td>Say hello to Smiley. He's a blind therapy dogg...</td>\n",
       "      <td>https://twitter.com/dog_rates/status/832273440...</td>\n",
       "      <td>14</td>\n",
       "      <td>10</td>\n",
       "      <td>Smiley</td>\n",
       "      <td>doggo</td>\n",
       "      <td>doggo</td>\n",
       "    </tr>\n",
       "    <tr>\n",
       "      <th>266</th>\n",
       "      <td>832032802820481025</td>\n",
       "      <td>2017-02-16 01:04:13</td>\n",
       "      <td>&lt;a href=\"http://twitter.com/download/iphone\" r...</td>\n",
       "      <td>This is Miguel. He was the only remaining dogg...</td>\n",
       "      <td>https://www.petfinder.com/petdetail/34918210,h...</td>\n",
       "      <td>12</td>\n",
       "      <td>10</td>\n",
       "      <td>Miguel</td>\n",
       "      <td>doggo</td>\n",
       "      <td>doggo</td>\n",
       "    </tr>\n",
       "    <tr>\n",
       "      <th>267</th>\n",
       "      <td>831939777352105988</td>\n",
       "      <td>2017-02-15 18:54:34</td>\n",
       "      <td>&lt;a href=\"http://twitter.com/download/iphone\" r...</td>\n",
       "      <td>This is Emanuel. He's a h*ckin rare doggo. Dwe...</td>\n",
       "      <td>https://twitter.com/dog_rates/status/831939777...</td>\n",
       "      <td>12</td>\n",
       "      <td>10</td>\n",
       "      <td>Emanuel</td>\n",
       "      <td>doggo</td>\n",
       "      <td>doggo</td>\n",
       "    </tr>\n",
       "    <tr>\n",
       "      <th>272</th>\n",
       "      <td>831322785565769729</td>\n",
       "      <td>2017-02-14 02:02:51</td>\n",
       "      <td>&lt;a href=\"http://twitter.com/download/iphone\" r...</td>\n",
       "      <td>This is Pete. He has no eyes. Needs a guide do...</td>\n",
       "      <td>https://twitter.com/dog_rates/status/831322785...</td>\n",
       "      <td>12</td>\n",
       "      <td>10</td>\n",
       "      <td>Pete</td>\n",
       "      <td>doggo</td>\n",
       "      <td>doggo</td>\n",
       "    </tr>\n",
       "    <tr>\n",
       "      <th>281</th>\n",
       "      <td>829449946868879360</td>\n",
       "      <td>2017-02-08 22:00:52</td>\n",
       "      <td>&lt;a href=\"http://twitter.com/download/iphone\" r...</td>\n",
       "      <td>Here's a stressed doggo. Had a long day. Many ...</td>\n",
       "      <td>https://twitter.com/dog_rates/status/829449946...</td>\n",
       "      <td>11</td>\n",
       "      <td>10</td>\n",
       "      <td>NaN</td>\n",
       "      <td>doggo</td>\n",
       "      <td>doggo</td>\n",
       "    </tr>\n",
       "    <tr>\n",
       "      <th>282</th>\n",
       "      <td>829374341691346946</td>\n",
       "      <td>2017-02-08 17:00:26</td>\n",
       "      <td>&lt;a href=\"http://twitter.com/download/iphone\" r...</td>\n",
       "      <td>This is Astrid. She's a guide doggo in trainin...</td>\n",
       "      <td>https://twitter.com/dog_rates/status/829374341...</td>\n",
       "      <td>13</td>\n",
       "      <td>10</td>\n",
       "      <td>Astrid</td>\n",
       "      <td>doggo</td>\n",
       "      <td>doggo</td>\n",
       "    </tr>\n",
       "    <tr>\n",
       "      <th>290</th>\n",
       "      <td>828381636999917570</td>\n",
       "      <td>2017-02-05 23:15:47</td>\n",
       "      <td>&lt;a href=\"http://twitter.com/download/iphone\" r...</td>\n",
       "      <td>Meet Doobert. He's a deaf doggo. Didn't stop h...</td>\n",
       "      <td>https://twitter.com/dog_rates/status/828381636...</td>\n",
       "      <td>14</td>\n",
       "      <td>10</td>\n",
       "      <td>Doobert</td>\n",
       "      <td>doggo</td>\n",
       "      <td>doggo</td>\n",
       "    </tr>\n",
       "    <tr>\n",
       "      <th>301</th>\n",
       "      <td>826958653328592898</td>\n",
       "      <td>2017-02-02 01:01:21</td>\n",
       "      <td>&lt;a href=\"http://twitter.com/download/iphone\" r...</td>\n",
       "      <td>This is Loki. He smiles like Elvis. Ain't noth...</td>\n",
       "      <td>https://twitter.com/dog_rates/status/826958653...</td>\n",
       "      <td>12</td>\n",
       "      <td>10</td>\n",
       "      <td>Loki</td>\n",
       "      <td>doggo</td>\n",
       "      <td>doggo</td>\n",
       "    </tr>\n",
       "    <tr>\n",
       "      <th>302</th>\n",
       "      <td>826848821049180160</td>\n",
       "      <td>2017-02-01 17:44:55</td>\n",
       "      <td>&lt;a href=\"http://twitter.com/download/iphone\" r...</td>\n",
       "      <td>This is Cupid. He was found in the trash. Now ...</td>\n",
       "      <td>https://twitter.com/dog_rates/status/826848821...</td>\n",
       "      <td>13</td>\n",
       "      <td>10</td>\n",
       "      <td>Cupid</td>\n",
       "      <td>doggo</td>\n",
       "      <td>doggo</td>\n",
       "    </tr>\n",
       "    <tr>\n",
       "      <th>304</th>\n",
       "      <td>826476773533745153</td>\n",
       "      <td>2017-01-31 17:06:32</td>\n",
       "      <td>&lt;a href=\"http://twitter.com/download/iphone\" r...</td>\n",
       "      <td>This is Pilot. He has mastered the synchronize...</td>\n",
       "      <td>https://twitter.com/dog_rates/status/826476773...</td>\n",
       "      <td>12</td>\n",
       "      <td>10</td>\n",
       "      <td>Pilot</td>\n",
       "      <td>doggo</td>\n",
       "      <td>doggo</td>\n",
       "    </tr>\n",
       "    <tr>\n",
       "      <th>306</th>\n",
       "      <td>826204788643753985</td>\n",
       "      <td>2017-01-30 23:05:46</td>\n",
       "      <td>&lt;a href=\"http://twitter.com/download/iphone\" r...</td>\n",
       "      <td>Here's a little more info on Dew, your favorit...</td>\n",
       "      <td>http://us.blastingnews.com/news/2017/01/kentuc...</td>\n",
       "      <td>13</td>\n",
       "      <td>10</td>\n",
       "      <td>NaN</td>\n",
       "      <td>doggo</td>\n",
       "      <td>doggo</td>\n",
       "    </tr>\n",
       "    <tr>\n",
       "      <th>330</th>\n",
       "      <td>821765923262631936</td>\n",
       "      <td>2017-01-18 17:07:18</td>\n",
       "      <td>&lt;a href=\"http://twitter.com/download/iphone\" r...</td>\n",
       "      <td>This is Duchess. She uses dark doggo forces to...</td>\n",
       "      <td>https://twitter.com/dog_rates/status/821765923...</td>\n",
       "      <td>13</td>\n",
       "      <td>10</td>\n",
       "      <td>Duchess</td>\n",
       "      <td>doggo</td>\n",
       "      <td>doggo</td>\n",
       "    </tr>\n",
       "    <tr>\n",
       "      <th>332</th>\n",
       "      <td>821407182352777218</td>\n",
       "      <td>2017-01-17 17:21:47</td>\n",
       "      <td>&lt;a href=\"http://twitter.com/download/iphone\" r...</td>\n",
       "      <td>This is Sundance. He's a doggo drummer. Even s...</td>\n",
       "      <td>https://twitter.com/dog_rates/status/821407182...</td>\n",
       "      <td>14</td>\n",
       "      <td>10</td>\n",
       "      <td>Sundance</td>\n",
       "      <td>doggo</td>\n",
       "      <td>doggo</td>\n",
       "    </tr>\n",
       "    <tr>\n",
       "      <th>334</th>\n",
       "      <td>821107785811234820</td>\n",
       "      <td>2017-01-16 21:32:06</td>\n",
       "      <td>&lt;a href=\"http://twitter.com/download/iphone\" r...</td>\n",
       "      <td>Here's a doggo who looks like he's about to gi...</td>\n",
       "      <td>https://twitter.com/dog_rates/status/821107785...</td>\n",
       "      <td>11</td>\n",
       "      <td>10</td>\n",
       "      <td>NaN</td>\n",
       "      <td>doggo</td>\n",
       "      <td>doggo</td>\n",
       "    </tr>\n",
       "    <tr>\n",
       "      <th>341</th>\n",
       "      <td>819924195358416896</td>\n",
       "      <td>2017-01-13 15:08:56</td>\n",
       "      <td>&lt;a href=\"http://twitter.com/download/iphone\" r...</td>\n",
       "      <td>Here we have a doggo who has messed up. He was...</td>\n",
       "      <td>https://twitter.com/dog_rates/status/819924195...</td>\n",
       "      <td>11</td>\n",
       "      <td>10</td>\n",
       "      <td>NaN</td>\n",
       "      <td>doggo</td>\n",
       "      <td>doggo</td>\n",
       "    </tr>\n",
       "    <tr>\n",
       "      <th>...</th>\n",
       "      <td>...</td>\n",
       "      <td>...</td>\n",
       "      <td>...</td>\n",
       "      <td>...</td>\n",
       "      <td>...</td>\n",
       "      <td>...</td>\n",
       "      <td>...</td>\n",
       "      <td>...</td>\n",
       "      <td>...</td>\n",
       "      <td>...</td>\n",
       "    </tr>\n",
       "    <tr>\n",
       "      <th>5929</th>\n",
       "      <td>672614745925664768</td>\n",
       "      <td>2015-12-04 03:13:46</td>\n",
       "      <td>&lt;a href=\"http://twitter.com/download/iphone\" r...</td>\n",
       "      <td>This is Norman. Doesn't bark much. Very docile...</td>\n",
       "      <td>https://twitter.com/dog_rates/status/672614745...</td>\n",
       "      <td>6</td>\n",
       "      <td>10</td>\n",
       "      <td>Norman</td>\n",
       "      <td>pupper</td>\n",
       "      <td>pupper</td>\n",
       "    </tr>\n",
       "    <tr>\n",
       "      <th>5932</th>\n",
       "      <td>672594978741354496</td>\n",
       "      <td>2015-12-04 01:55:13</td>\n",
       "      <td>&lt;a href=\"http://twitter.com/download/iphone\" r...</td>\n",
       "      <td>Meet Scott. Just trying to catch his train to ...</td>\n",
       "      <td>https://twitter.com/dog_rates/status/672594978...</td>\n",
       "      <td>9</td>\n",
       "      <td>10</td>\n",
       "      <td>Scott</td>\n",
       "      <td>pupper</td>\n",
       "      <td>pupper</td>\n",
       "    </tr>\n",
       "    <tr>\n",
       "      <th>5939</th>\n",
       "      <td>672481316919734272</td>\n",
       "      <td>2015-12-03 18:23:34</td>\n",
       "      <td>&lt;a href=\"http://twitter.com/download/iphone\" r...</td>\n",
       "      <td>Say hello to Jazz. She should be on the cover ...</td>\n",
       "      <td>https://twitter.com/dog_rates/status/672481316...</td>\n",
       "      <td>12</td>\n",
       "      <td>10</td>\n",
       "      <td>Jazz</td>\n",
       "      <td>pupper</td>\n",
       "      <td>pupper</td>\n",
       "    </tr>\n",
       "    <tr>\n",
       "      <th>5946</th>\n",
       "      <td>672254177670729728</td>\n",
       "      <td>2015-12-03 03:21:00</td>\n",
       "      <td>&lt;a href=\"http://twitter.com/download/iphone\" r...</td>\n",
       "      <td>This is Rolf. He's having the time of his life...</td>\n",
       "      <td>https://twitter.com/dog_rates/status/672254177...</td>\n",
       "      <td>11</td>\n",
       "      <td>10</td>\n",
       "      <td>Rolf</td>\n",
       "      <td>pupper</td>\n",
       "      <td>pupper</td>\n",
       "    </tr>\n",
       "    <tr>\n",
       "      <th>5952</th>\n",
       "      <td>672205392827572224</td>\n",
       "      <td>2015-12-03 00:07:09</td>\n",
       "      <td>&lt;a href=\"http://twitter.com/download/iphone\" r...</td>\n",
       "      <td>This is Opal. He's a Royal John Coctostan. Rea...</td>\n",
       "      <td>https://twitter.com/dog_rates/status/672205392...</td>\n",
       "      <td>9</td>\n",
       "      <td>10</td>\n",
       "      <td>Opal</td>\n",
       "      <td>pupper</td>\n",
       "      <td>pupper</td>\n",
       "    </tr>\n",
       "    <tr>\n",
       "      <th>5954</th>\n",
       "      <td>672160042234327040</td>\n",
       "      <td>2015-12-02 21:06:56</td>\n",
       "      <td>&lt;a href=\"http://twitter.com/download/iphone\" r...</td>\n",
       "      <td>This is Bubba. He's a Titted Peebles Aorta. Ev...</td>\n",
       "      <td>https://twitter.com/dog_rates/status/672160042...</td>\n",
       "      <td>8</td>\n",
       "      <td>10</td>\n",
       "      <td>Bubba</td>\n",
       "      <td>pupper</td>\n",
       "      <td>pupper</td>\n",
       "    </tr>\n",
       "    <tr>\n",
       "      <th>6295</th>\n",
       "      <td>889665388333682689</td>\n",
       "      <td>2017-07-25 01:55:32</td>\n",
       "      <td>&lt;a href=\"http://twitter.com/download/iphone\" r...</td>\n",
       "      <td>Here's a puppo that seems to be on the fence a...</td>\n",
       "      <td>https://twitter.com/dog_rates/status/889665388...</td>\n",
       "      <td>13</td>\n",
       "      <td>10</td>\n",
       "      <td>NaN</td>\n",
       "      <td>puppo</td>\n",
       "      <td>puppo</td>\n",
       "    </tr>\n",
       "    <tr>\n",
       "      <th>6297</th>\n",
       "      <td>889531135344209921</td>\n",
       "      <td>2017-07-24 17:02:04</td>\n",
       "      <td>&lt;a href=\"http://twitter.com/download/iphone\" r...</td>\n",
       "      <td>This is Stuart. He's sporting his favorite fan...</td>\n",
       "      <td>https://twitter.com/dog_rates/status/889531135...</td>\n",
       "      <td>13</td>\n",
       "      <td>10</td>\n",
       "      <td>Stuart</td>\n",
       "      <td>puppo</td>\n",
       "      <td>puppo</td>\n",
       "    </tr>\n",
       "    <tr>\n",
       "      <th>6347</th>\n",
       "      <td>878776093423087618</td>\n",
       "      <td>2017-06-25 00:45:22</td>\n",
       "      <td>&lt;a href=\"http://twitter.com/download/iphone\" r...</td>\n",
       "      <td>This is Snoopy. He's a proud #PrideMonthPuppo....</td>\n",
       "      <td>https://twitter.com/dog_rates/status/878776093...</td>\n",
       "      <td>13</td>\n",
       "      <td>10</td>\n",
       "      <td>Snoopy</td>\n",
       "      <td>puppo</td>\n",
       "      <td>puppo</td>\n",
       "    </tr>\n",
       "    <tr>\n",
       "      <th>6366</th>\n",
       "      <td>874012996292530176</td>\n",
       "      <td>2017-06-11 21:18:31</td>\n",
       "      <td>&lt;a href=\"http://twitter.com/download/iphone\" r...</td>\n",
       "      <td>This is Sebastian. He can't see all the colors...</td>\n",
       "      <td>https://twitter.com/dog_rates/status/874012996...</td>\n",
       "      <td>13</td>\n",
       "      <td>10</td>\n",
       "      <td>Sebastian</td>\n",
       "      <td>puppo</td>\n",
       "      <td>puppo</td>\n",
       "    </tr>\n",
       "    <tr>\n",
       "      <th>6394</th>\n",
       "      <td>867421006826221569</td>\n",
       "      <td>2017-05-24 16:44:18</td>\n",
       "      <td>&lt;a href=\"http://twitter.com/download/iphone\" r...</td>\n",
       "      <td>This is Shikha. She just watched you drop a sk...</td>\n",
       "      <td>https://twitter.com/dog_rates/status/867421006...</td>\n",
       "      <td>12</td>\n",
       "      <td>10</td>\n",
       "      <td>Shikha</td>\n",
       "      <td>puppo</td>\n",
       "      <td>puppo</td>\n",
       "    </tr>\n",
       "    <tr>\n",
       "      <th>6423</th>\n",
       "      <td>859607811541651456</td>\n",
       "      <td>2017-05-03 03:17:27</td>\n",
       "      <td>&lt;a href=\"http://twitter.com/download/iphone\" r...</td>\n",
       "      <td>Sorry for the lack of posts today. I came home...</td>\n",
       "      <td>https://twitter.com/dog_rates/status/859607811...</td>\n",
       "      <td>13</td>\n",
       "      <td>10</td>\n",
       "      <td>NaN</td>\n",
       "      <td>puppo</td>\n",
       "      <td>puppo</td>\n",
       "    </tr>\n",
       "    <tr>\n",
       "      <th>6437</th>\n",
       "      <td>855851453814013952</td>\n",
       "      <td>2017-04-22 18:31:02</td>\n",
       "      <td>&lt;a href=\"http://twitter.com/download/iphone\" r...</td>\n",
       "      <td>Here's a puppo participating in the #ScienceMa...</td>\n",
       "      <td>https://twitter.com/dog_rates/status/855851453...</td>\n",
       "      <td>13</td>\n",
       "      <td>10</td>\n",
       "      <td>NaN</td>\n",
       "      <td>puppo</td>\n",
       "      <td>puppo</td>\n",
       "    </tr>\n",
       "    <tr>\n",
       "      <th>6595</th>\n",
       "      <td>825535076884762624</td>\n",
       "      <td>2017-01-29 02:44:34</td>\n",
       "      <td>&lt;a href=\"http://twitter.com/download/iphone\" r...</td>\n",
       "      <td>Here's a very loving and accepting puppo. Appe...</td>\n",
       "      <td>https://twitter.com/dog_rates/status/825535076...</td>\n",
       "      <td>14</td>\n",
       "      <td>10</td>\n",
       "      <td>NaN</td>\n",
       "      <td>puppo</td>\n",
       "      <td>puppo</td>\n",
       "    </tr>\n",
       "    <tr>\n",
       "      <th>6597</th>\n",
       "      <td>825026590719483904</td>\n",
       "      <td>2017-01-27 17:04:02</td>\n",
       "      <td>&lt;a href=\"http://twitter.com/download/iphone\" r...</td>\n",
       "      <td>Say hello to Pablo. He's one gorgeous puppo. A...</td>\n",
       "      <td>https://www.gofundme.com/my-puppys-double-cata...</td>\n",
       "      <td>12</td>\n",
       "      <td>10</td>\n",
       "      <td>Pablo</td>\n",
       "      <td>puppo</td>\n",
       "      <td>puppo</td>\n",
       "    </tr>\n",
       "    <tr>\n",
       "      <th>6608</th>\n",
       "      <td>822872901745569793</td>\n",
       "      <td>2017-01-21 18:26:02</td>\n",
       "      <td>&lt;a href=\"http://twitter.com/download/iphone\" r...</td>\n",
       "      <td>Here's a super supportive puppo participating ...</td>\n",
       "      <td>https://twitter.com/dog_rates/status/822872901...</td>\n",
       "      <td>13</td>\n",
       "      <td>10</td>\n",
       "      <td>NaN</td>\n",
       "      <td>puppo</td>\n",
       "      <td>puppo</td>\n",
       "    </tr>\n",
       "    <tr>\n",
       "      <th>6625</th>\n",
       "      <td>819952236453363712</td>\n",
       "      <td>2017-01-13 17:00:21</td>\n",
       "      <td>&lt;a href=\"http://twitter.com/download/iphone\" r...</td>\n",
       "      <td>This is Oliver. He has dreams of being a servi...</td>\n",
       "      <td>https://www.gofundme.com/servicedogoliver,http...</td>\n",
       "      <td>13</td>\n",
       "      <td>10</td>\n",
       "      <td>Oliver</td>\n",
       "      <td>puppo</td>\n",
       "      <td>puppo</td>\n",
       "    </tr>\n",
       "    <tr>\n",
       "      <th>6716</th>\n",
       "      <td>803773340896923648</td>\n",
       "      <td>2016-11-30 01:31:12</td>\n",
       "      <td>&lt;a href=\"http://twitter.com/download/iphone\" r...</td>\n",
       "      <td>This is Diogi. He fell in the pool as soon as ...</td>\n",
       "      <td>https://twitter.com/dog_rates/status/803773340...</td>\n",
       "      <td>12</td>\n",
       "      <td>10</td>\n",
       "      <td>Diogi</td>\n",
       "      <td>puppo</td>\n",
       "      <td>puppo</td>\n",
       "    </tr>\n",
       "    <tr>\n",
       "      <th>6724</th>\n",
       "      <td>802239329049477120</td>\n",
       "      <td>2016-11-25 19:55:35</td>\n",
       "      <td>&lt;a href=\"http://twitter.com/download/iphone\" r...</td>\n",
       "      <td>This is Loki. He'll do your taxes for you. Can...</td>\n",
       "      <td>https://twitter.com/dog_rates/status/802239329...</td>\n",
       "      <td>12</td>\n",
       "      <td>10</td>\n",
       "      <td>Loki</td>\n",
       "      <td>puppo</td>\n",
       "      <td>puppo</td>\n",
       "    </tr>\n",
       "    <tr>\n",
       "      <th>6771</th>\n",
       "      <td>793195938047070209</td>\n",
       "      <td>2016-10-31 21:00:23</td>\n",
       "      <td>&lt;a href=\"http://twitter.com/download/iphone\" r...</td>\n",
       "      <td>Say hello to Lily. She's pupset that her costu...</td>\n",
       "      <td>https://twitter.com/dog_rates/status/793195938...</td>\n",
       "      <td>12</td>\n",
       "      <td>10</td>\n",
       "      <td>Lily</td>\n",
       "      <td>puppo</td>\n",
       "      <td>puppo</td>\n",
       "    </tr>\n",
       "    <tr>\n",
       "      <th>6787</th>\n",
       "      <td>790946055508652032</td>\n",
       "      <td>2016-10-25 16:00:09</td>\n",
       "      <td>&lt;a href=\"http://twitter.com/download/iphone\" r...</td>\n",
       "      <td>This is Betty. She's assisting with the dishes...</td>\n",
       "      <td>https://twitter.com/dog_rates/status/790946055...</td>\n",
       "      <td>12</td>\n",
       "      <td>10</td>\n",
       "      <td>Betty</td>\n",
       "      <td>puppo</td>\n",
       "      <td>puppo</td>\n",
       "    </tr>\n",
       "    <tr>\n",
       "      <th>6807</th>\n",
       "      <td>787717603741622272</td>\n",
       "      <td>2016-10-16 18:11:26</td>\n",
       "      <td>&lt;a href=\"http://twitter.com/download/iphone\" r...</td>\n",
       "      <td>This is Tonks. She is a service puppo. Can hea...</td>\n",
       "      <td>https://twitter.com/dog_rates/status/787717603...</td>\n",
       "      <td>13</td>\n",
       "      <td>10</td>\n",
       "      <td>Tonks</td>\n",
       "      <td>puppo</td>\n",
       "      <td>puppo</td>\n",
       "    </tr>\n",
       "    <tr>\n",
       "      <th>6827</th>\n",
       "      <td>784183165795655680</td>\n",
       "      <td>2016-10-07 00:06:50</td>\n",
       "      <td>&lt;a href=\"http://vine.co\" rel=\"nofollow\"&gt;Vine -...</td>\n",
       "      <td>This is Reginald. He's one magical puppo. Aero...</td>\n",
       "      <td>https://vine.co/v/5ghHLBMMdlV</td>\n",
       "      <td>12</td>\n",
       "      <td>10</td>\n",
       "      <td>Reginald</td>\n",
       "      <td>puppo</td>\n",
       "      <td>puppo</td>\n",
       "    </tr>\n",
       "    <tr>\n",
       "      <th>6848</th>\n",
       "      <td>780931614150983680</td>\n",
       "      <td>2016-09-28 00:46:20</td>\n",
       "      <td>&lt;a href=\"http://twitter.com/download/iphone\" r...</td>\n",
       "      <td>I want to finally rate this iconic puppo who t...</td>\n",
       "      <td>https://twitter.com/dog_rates/status/780931614...</td>\n",
       "      <td>13</td>\n",
       "      <td>10</td>\n",
       "      <td>NaN</td>\n",
       "      <td>puppo</td>\n",
       "      <td>puppo</td>\n",
       "    </tr>\n",
       "    <tr>\n",
       "      <th>7001</th>\n",
       "      <td>756275833623502848</td>\n",
       "      <td>2016-07-21 23:53:04</td>\n",
       "      <td>&lt;a href=\"http://twitter.com/download/iphone\" r...</td>\n",
       "      <td>When ur older siblings get to play in the deep...</td>\n",
       "      <td>https://twitter.com/dog_rates/status/756275833...</td>\n",
       "      <td>10</td>\n",
       "      <td>10</td>\n",
       "      <td>NaN</td>\n",
       "      <td>puppo</td>\n",
       "      <td>puppo</td>\n",
       "    </tr>\n",
       "    <tr>\n",
       "      <th>7023</th>\n",
       "      <td>752519690950500352</td>\n",
       "      <td>2016-07-11 15:07:30</td>\n",
       "      <td>&lt;a href=\"http://twitter.com/download/iphone\" r...</td>\n",
       "      <td>Hopefully this puppo on a swing will help get ...</td>\n",
       "      <td>https://twitter.com/dog_rates/status/752519690...</td>\n",
       "      <td>11</td>\n",
       "      <td>10</td>\n",
       "      <td>NaN</td>\n",
       "      <td>puppo</td>\n",
       "      <td>puppo</td>\n",
       "    </tr>\n",
       "    <tr>\n",
       "      <th>7036</th>\n",
       "      <td>751132876104687617</td>\n",
       "      <td>2016-07-07 19:16:47</td>\n",
       "      <td>&lt;a href=\"http://twitter.com/download/iphone\" r...</td>\n",
       "      <td>This is Cooper. He's just so damn happy. 10/10...</td>\n",
       "      <td>https://twitter.com/dog_rates/status/751132876...</td>\n",
       "      <td>10</td>\n",
       "      <td>10</td>\n",
       "      <td>Cooper</td>\n",
       "      <td>puppo</td>\n",
       "      <td>puppo</td>\n",
       "    </tr>\n",
       "    <tr>\n",
       "      <th>7104</th>\n",
       "      <td>744995568523612160</td>\n",
       "      <td>2016-06-20 20:49:19</td>\n",
       "      <td>&lt;a href=\"http://twitter.com/download/iphone\" r...</td>\n",
       "      <td>This is Abby. She got her face stuck in a glas...</td>\n",
       "      <td>https://twitter.com/dog_rates/status/744995568...</td>\n",
       "      <td>9</td>\n",
       "      <td>10</td>\n",
       "      <td>Abby</td>\n",
       "      <td>puppo</td>\n",
       "      <td>puppo</td>\n",
       "    </tr>\n",
       "    <tr>\n",
       "      <th>7116</th>\n",
       "      <td>743253157753532416</td>\n",
       "      <td>2016-06-16 01:25:36</td>\n",
       "      <td>&lt;a href=\"http://twitter.com/download/iphone\" r...</td>\n",
       "      <td>This is Kilo. He cannot reach the snackum. Nif...</td>\n",
       "      <td>https://twitter.com/dog_rates/status/743253157...</td>\n",
       "      <td>10</td>\n",
       "      <td>10</td>\n",
       "      <td>Kilo</td>\n",
       "      <td>puppo</td>\n",
       "      <td>puppo</td>\n",
       "    </tr>\n",
       "    <tr>\n",
       "      <th>7150</th>\n",
       "      <td>738537504001953792</td>\n",
       "      <td>2016-06-03 01:07:16</td>\n",
       "      <td>&lt;a href=\"http://twitter.com/download/iphone\" r...</td>\n",
       "      <td>This is Bayley. She fell asleep trying to esca...</td>\n",
       "      <td>https://twitter.com/dog_rates/status/738537504...</td>\n",
       "      <td>11</td>\n",
       "      <td>10</td>\n",
       "      <td>Bayley</td>\n",
       "      <td>puppo</td>\n",
       "      <td>puppo</td>\n",
       "    </tr>\n",
       "  </tbody>\n",
       "</table>\n",
       "<p>347 rows × 10 columns</p>\n",
       "</div>"
      ],
      "text/plain": [
       "                tweet_id          tweet_date  \\\n",
       "7     890240255349198849 2017-07-26 15:59:51   \n",
       "37    884162670584377345 2017-07-09 21:29:42   \n",
       "84    872967104147763200 2017-06-09 00:02:31   \n",
       "92    871515927908634625 2017-06-04 23:56:03   \n",
       "93    871102520638267392 2017-06-03 20:33:19   \n",
       "102   869596645499047938 2017-05-30 16:49:31   \n",
       "141   858843525470990336 2017-05-01 00:40:27   \n",
       "152   855851453814013952 2017-04-22 18:31:02   \n",
       "159   854010172552949760 2017-04-17 16:34:26   \n",
       "190   846514051647705089 2017-03-28 00:07:32   \n",
       "197   845397057150107648 2017-03-24 22:08:59   \n",
       "235   836753516572119041 2017-03-01 01:42:39   \n",
       "247   834574053763584002 2017-02-23 01:22:14   \n",
       "251   834089966724603904 2017-02-21 17:18:39   \n",
       "258   832998151111966721 2017-02-18 17:00:10   \n",
       "265   832273440279240704 2017-02-16 17:00:25   \n",
       "266   832032802820481025 2017-02-16 01:04:13   \n",
       "267   831939777352105988 2017-02-15 18:54:34   \n",
       "272   831322785565769729 2017-02-14 02:02:51   \n",
       "281   829449946868879360 2017-02-08 22:00:52   \n",
       "282   829374341691346946 2017-02-08 17:00:26   \n",
       "290   828381636999917570 2017-02-05 23:15:47   \n",
       "301   826958653328592898 2017-02-02 01:01:21   \n",
       "302   826848821049180160 2017-02-01 17:44:55   \n",
       "304   826476773533745153 2017-01-31 17:06:32   \n",
       "306   826204788643753985 2017-01-30 23:05:46   \n",
       "330   821765923262631936 2017-01-18 17:07:18   \n",
       "332   821407182352777218 2017-01-17 17:21:47   \n",
       "334   821107785811234820 2017-01-16 21:32:06   \n",
       "341   819924195358416896 2017-01-13 15:08:56   \n",
       "...                  ...                 ...   \n",
       "5929  672614745925664768 2015-12-04 03:13:46   \n",
       "5932  672594978741354496 2015-12-04 01:55:13   \n",
       "5939  672481316919734272 2015-12-03 18:23:34   \n",
       "5946  672254177670729728 2015-12-03 03:21:00   \n",
       "5952  672205392827572224 2015-12-03 00:07:09   \n",
       "5954  672160042234327040 2015-12-02 21:06:56   \n",
       "6295  889665388333682689 2017-07-25 01:55:32   \n",
       "6297  889531135344209921 2017-07-24 17:02:04   \n",
       "6347  878776093423087618 2017-06-25 00:45:22   \n",
       "6366  874012996292530176 2017-06-11 21:18:31   \n",
       "6394  867421006826221569 2017-05-24 16:44:18   \n",
       "6423  859607811541651456 2017-05-03 03:17:27   \n",
       "6437  855851453814013952 2017-04-22 18:31:02   \n",
       "6595  825535076884762624 2017-01-29 02:44:34   \n",
       "6597  825026590719483904 2017-01-27 17:04:02   \n",
       "6608  822872901745569793 2017-01-21 18:26:02   \n",
       "6625  819952236453363712 2017-01-13 17:00:21   \n",
       "6716  803773340896923648 2016-11-30 01:31:12   \n",
       "6724  802239329049477120 2016-11-25 19:55:35   \n",
       "6771  793195938047070209 2016-10-31 21:00:23   \n",
       "6787  790946055508652032 2016-10-25 16:00:09   \n",
       "6807  787717603741622272 2016-10-16 18:11:26   \n",
       "6827  784183165795655680 2016-10-07 00:06:50   \n",
       "6848  780931614150983680 2016-09-28 00:46:20   \n",
       "7001  756275833623502848 2016-07-21 23:53:04   \n",
       "7023  752519690950500352 2016-07-11 15:07:30   \n",
       "7036  751132876104687617 2016-07-07 19:16:47   \n",
       "7104  744995568523612160 2016-06-20 20:49:19   \n",
       "7116  743253157753532416 2016-06-16 01:25:36   \n",
       "7150  738537504001953792 2016-06-03 01:07:16   \n",
       "\n",
       "                                                 source  \\\n",
       "7     <a href=\"http://twitter.com/download/iphone\" r...   \n",
       "37    <a href=\"http://twitter.com/download/iphone\" r...   \n",
       "84    <a href=\"http://twitter.com/download/iphone\" r...   \n",
       "92    <a href=\"http://twitter.com/download/iphone\" r...   \n",
       "93    <a href=\"http://twitter.com/download/iphone\" r...   \n",
       "102   <a href=\"http://twitter.com/download/iphone\" r...   \n",
       "141   <a href=\"http://twitter.com/download/iphone\" r...   \n",
       "152   <a href=\"http://twitter.com/download/iphone\" r...   \n",
       "159   <a href=\"http://twitter.com/download/iphone\" r...   \n",
       "190   <a href=\"http://twitter.com/download/iphone\" r...   \n",
       "197   <a href=\"http://twitter.com/download/iphone\" r...   \n",
       "235   <a href=\"http://twitter.com/download/iphone\" r...   \n",
       "247   <a href=\"http://twitter.com/download/iphone\" r...   \n",
       "251   <a href=\"http://twitter.com/download/iphone\" r...   \n",
       "258   <a href=\"http://twitter.com/download/iphone\" r...   \n",
       "265   <a href=\"http://twitter.com/download/iphone\" r...   \n",
       "266   <a href=\"http://twitter.com/download/iphone\" r...   \n",
       "267   <a href=\"http://twitter.com/download/iphone\" r...   \n",
       "272   <a href=\"http://twitter.com/download/iphone\" r...   \n",
       "281   <a href=\"http://twitter.com/download/iphone\" r...   \n",
       "282   <a href=\"http://twitter.com/download/iphone\" r...   \n",
       "290   <a href=\"http://twitter.com/download/iphone\" r...   \n",
       "301   <a href=\"http://twitter.com/download/iphone\" r...   \n",
       "302   <a href=\"http://twitter.com/download/iphone\" r...   \n",
       "304   <a href=\"http://twitter.com/download/iphone\" r...   \n",
       "306   <a href=\"http://twitter.com/download/iphone\" r...   \n",
       "330   <a href=\"http://twitter.com/download/iphone\" r...   \n",
       "332   <a href=\"http://twitter.com/download/iphone\" r...   \n",
       "334   <a href=\"http://twitter.com/download/iphone\" r...   \n",
       "341   <a href=\"http://twitter.com/download/iphone\" r...   \n",
       "...                                                 ...   \n",
       "5929  <a href=\"http://twitter.com/download/iphone\" r...   \n",
       "5932  <a href=\"http://twitter.com/download/iphone\" r...   \n",
       "5939  <a href=\"http://twitter.com/download/iphone\" r...   \n",
       "5946  <a href=\"http://twitter.com/download/iphone\" r...   \n",
       "5952  <a href=\"http://twitter.com/download/iphone\" r...   \n",
       "5954  <a href=\"http://twitter.com/download/iphone\" r...   \n",
       "6295  <a href=\"http://twitter.com/download/iphone\" r...   \n",
       "6297  <a href=\"http://twitter.com/download/iphone\" r...   \n",
       "6347  <a href=\"http://twitter.com/download/iphone\" r...   \n",
       "6366  <a href=\"http://twitter.com/download/iphone\" r...   \n",
       "6394  <a href=\"http://twitter.com/download/iphone\" r...   \n",
       "6423  <a href=\"http://twitter.com/download/iphone\" r...   \n",
       "6437  <a href=\"http://twitter.com/download/iphone\" r...   \n",
       "6595  <a href=\"http://twitter.com/download/iphone\" r...   \n",
       "6597  <a href=\"http://twitter.com/download/iphone\" r...   \n",
       "6608  <a href=\"http://twitter.com/download/iphone\" r...   \n",
       "6625  <a href=\"http://twitter.com/download/iphone\" r...   \n",
       "6716  <a href=\"http://twitter.com/download/iphone\" r...   \n",
       "6724  <a href=\"http://twitter.com/download/iphone\" r...   \n",
       "6771  <a href=\"http://twitter.com/download/iphone\" r...   \n",
       "6787  <a href=\"http://twitter.com/download/iphone\" r...   \n",
       "6807  <a href=\"http://twitter.com/download/iphone\" r...   \n",
       "6827  <a href=\"http://vine.co\" rel=\"nofollow\">Vine -...   \n",
       "6848  <a href=\"http://twitter.com/download/iphone\" r...   \n",
       "7001  <a href=\"http://twitter.com/download/iphone\" r...   \n",
       "7023  <a href=\"http://twitter.com/download/iphone\" r...   \n",
       "7036  <a href=\"http://twitter.com/download/iphone\" r...   \n",
       "7104  <a href=\"http://twitter.com/download/iphone\" r...   \n",
       "7116  <a href=\"http://twitter.com/download/iphone\" r...   \n",
       "7150  <a href=\"http://twitter.com/download/iphone\" r...   \n",
       "\n",
       "                                                   text  \\\n",
       "7     This is Cassie. She is a college pup. Studying...   \n",
       "37    Meet Yogi. He doesn't have any important dog m...   \n",
       "84    Here's a very large dog. He has a date later. ...   \n",
       "92    This is Napolean. He's a Raggedy East Nicaragu...   \n",
       "93    Never doubt a doggo 14/10 https://t.co/AbBLh2FZCH   \n",
       "102   This is Scout. He just graduated. Officially a...   \n",
       "141   I have stumbled puppon a doggo painting party....   \n",
       "152   Here's a puppo participating in the #ScienceMa...   \n",
       "159   At first I thought this was a shy doggo, but i...   \n",
       "190   This is Barney. He's an elder doggo. Hitches a...   \n",
       "197   Say hello to Mimosa. She's an emotional suppor...   \n",
       "235   This is Meera. She just heard about taxes and ...   \n",
       "247   Here's a doggo fully pupared for a shower. H*c...   \n",
       "251   DOGGO ON THE LOOSE I REPEAT DOGGO ON THE LOOSE...   \n",
       "258   This is Rhino. He arrived at a shelter with an...   \n",
       "265   Say hello to Smiley. He's a blind therapy dogg...   \n",
       "266   This is Miguel. He was the only remaining dogg...   \n",
       "267   This is Emanuel. He's a h*ckin rare doggo. Dwe...   \n",
       "272   This is Pete. He has no eyes. Needs a guide do...   \n",
       "281   Here's a stressed doggo. Had a long day. Many ...   \n",
       "282   This is Astrid. She's a guide doggo in trainin...   \n",
       "290   Meet Doobert. He's a deaf doggo. Didn't stop h...   \n",
       "301   This is Loki. He smiles like Elvis. Ain't noth...   \n",
       "302   This is Cupid. He was found in the trash. Now ...   \n",
       "304   This is Pilot. He has mastered the synchronize...   \n",
       "306   Here's a little more info on Dew, your favorit...   \n",
       "330   This is Duchess. She uses dark doggo forces to...   \n",
       "332   This is Sundance. He's a doggo drummer. Even s...   \n",
       "334   Here's a doggo who looks like he's about to gi...   \n",
       "341   Here we have a doggo who has messed up. He was...   \n",
       "...                                                 ...   \n",
       "5929  This is Norman. Doesn't bark much. Very docile...   \n",
       "5932  Meet Scott. Just trying to catch his train to ...   \n",
       "5939  Say hello to Jazz. She should be on the cover ...   \n",
       "5946  This is Rolf. He's having the time of his life...   \n",
       "5952  This is Opal. He's a Royal John Coctostan. Rea...   \n",
       "5954  This is Bubba. He's a Titted Peebles Aorta. Ev...   \n",
       "6295  Here's a puppo that seems to be on the fence a...   \n",
       "6297  This is Stuart. He's sporting his favorite fan...   \n",
       "6347  This is Snoopy. He's a proud #PrideMonthPuppo....   \n",
       "6366  This is Sebastian. He can't see all the colors...   \n",
       "6394  This is Shikha. She just watched you drop a sk...   \n",
       "6423  Sorry for the lack of posts today. I came home...   \n",
       "6437  Here's a puppo participating in the #ScienceMa...   \n",
       "6595  Here's a very loving and accepting puppo. Appe...   \n",
       "6597  Say hello to Pablo. He's one gorgeous puppo. A...   \n",
       "6608  Here's a super supportive puppo participating ...   \n",
       "6625  This is Oliver. He has dreams of being a servi...   \n",
       "6716  This is Diogi. He fell in the pool as soon as ...   \n",
       "6724  This is Loki. He'll do your taxes for you. Can...   \n",
       "6771  Say hello to Lily. She's pupset that her costu...   \n",
       "6787  This is Betty. She's assisting with the dishes...   \n",
       "6807  This is Tonks. She is a service puppo. Can hea...   \n",
       "6827  This is Reginald. He's one magical puppo. Aero...   \n",
       "6848  I want to finally rate this iconic puppo who t...   \n",
       "7001  When ur older siblings get to play in the deep...   \n",
       "7023  Hopefully this puppo on a swing will help get ...   \n",
       "7036  This is Cooper. He's just so damn happy. 10/10...   \n",
       "7104  This is Abby. She got her face stuck in a glas...   \n",
       "7116  This is Kilo. He cannot reach the snackum. Nif...   \n",
       "7150  This is Bayley. She fell asleep trying to esca...   \n",
       "\n",
       "                                          expanded_urls  rating_numerator  \\\n",
       "7     https://twitter.com/dog_rates/status/890240255...                14   \n",
       "37    https://twitter.com/dog_rates/status/884162670...                12   \n",
       "84    https://twitter.com/dog_rates/status/872967104...                12   \n",
       "92    https://twitter.com/dog_rates/status/871515927...                12   \n",
       "93    https://twitter.com/animalcog/status/871075758...                14   \n",
       "102   https://twitter.com/dog_rates/status/869596645...                12   \n",
       "141   https://twitter.com/dog_rates/status/858843525...                13   \n",
       "152   https://twitter.com/dog_rates/status/855851453...                13   \n",
       "159   https://twitter.com/dog_rates/status/854010172...                11   \n",
       "190   https://twitter.com/dog_rates/status/846514051...                13   \n",
       "197   https://www.gofundme.com/help-save-a-pup,https...                13   \n",
       "235   https://twitter.com/dog_rates/status/836753516...                12   \n",
       "247   https://twitter.com/dog_rates/status/834574053...                13   \n",
       "251   https://twitter.com/stevekopack/status/8340866...                10   \n",
       "258   https://twitter.com/dog_rates/status/832998151...                13   \n",
       "265   https://twitter.com/dog_rates/status/832273440...                14   \n",
       "266   https://www.petfinder.com/petdetail/34918210,h...                12   \n",
       "267   https://twitter.com/dog_rates/status/831939777...                12   \n",
       "272   https://twitter.com/dog_rates/status/831322785...                12   \n",
       "281   https://twitter.com/dog_rates/status/829449946...                11   \n",
       "282   https://twitter.com/dog_rates/status/829374341...                13   \n",
       "290   https://twitter.com/dog_rates/status/828381636...                14   \n",
       "301   https://twitter.com/dog_rates/status/826958653...                12   \n",
       "302   https://twitter.com/dog_rates/status/826848821...                13   \n",
       "304   https://twitter.com/dog_rates/status/826476773...                12   \n",
       "306   http://us.blastingnews.com/news/2017/01/kentuc...                13   \n",
       "330   https://twitter.com/dog_rates/status/821765923...                13   \n",
       "332   https://twitter.com/dog_rates/status/821407182...                14   \n",
       "334   https://twitter.com/dog_rates/status/821107785...                11   \n",
       "341   https://twitter.com/dog_rates/status/819924195...                11   \n",
       "...                                                 ...               ...   \n",
       "5929  https://twitter.com/dog_rates/status/672614745...                 6   \n",
       "5932  https://twitter.com/dog_rates/status/672594978...                 9   \n",
       "5939  https://twitter.com/dog_rates/status/672481316...                12   \n",
       "5946  https://twitter.com/dog_rates/status/672254177...                11   \n",
       "5952  https://twitter.com/dog_rates/status/672205392...                 9   \n",
       "5954  https://twitter.com/dog_rates/status/672160042...                 8   \n",
       "6295  https://twitter.com/dog_rates/status/889665388...                13   \n",
       "6297  https://twitter.com/dog_rates/status/889531135...                13   \n",
       "6347  https://twitter.com/dog_rates/status/878776093...                13   \n",
       "6366  https://twitter.com/dog_rates/status/874012996...                13   \n",
       "6394  https://twitter.com/dog_rates/status/867421006...                12   \n",
       "6423  https://twitter.com/dog_rates/status/859607811...                13   \n",
       "6437  https://twitter.com/dog_rates/status/855851453...                13   \n",
       "6595  https://twitter.com/dog_rates/status/825535076...                14   \n",
       "6597  https://www.gofundme.com/my-puppys-double-cata...                12   \n",
       "6608  https://twitter.com/dog_rates/status/822872901...                13   \n",
       "6625  https://www.gofundme.com/servicedogoliver,http...                13   \n",
       "6716  https://twitter.com/dog_rates/status/803773340...                12   \n",
       "6724  https://twitter.com/dog_rates/status/802239329...                12   \n",
       "6771  https://twitter.com/dog_rates/status/793195938...                12   \n",
       "6787  https://twitter.com/dog_rates/status/790946055...                12   \n",
       "6807  https://twitter.com/dog_rates/status/787717603...                13   \n",
       "6827                      https://vine.co/v/5ghHLBMMdlV                12   \n",
       "6848  https://twitter.com/dog_rates/status/780931614...                13   \n",
       "7001  https://twitter.com/dog_rates/status/756275833...                10   \n",
       "7023  https://twitter.com/dog_rates/status/752519690...                11   \n",
       "7036  https://twitter.com/dog_rates/status/751132876...                10   \n",
       "7104  https://twitter.com/dog_rates/status/744995568...                 9   \n",
       "7116  https://twitter.com/dog_rates/status/743253157...                10   \n",
       "7150  https://twitter.com/dog_rates/status/738537504...                11   \n",
       "\n",
       "      rating_denominator       name dog_stage val_name  \n",
       "7                     10     Cassie     doggo    doggo  \n",
       "37                    10       Yogi     doggo    doggo  \n",
       "84                    10        NaN     doggo    doggo  \n",
       "92                    10   Napolean     doggo    doggo  \n",
       "93                    10        NaN     doggo    doggo  \n",
       "102                   10      Scout     doggo    doggo  \n",
       "141                   10        NaN     doggo    doggo  \n",
       "152                   10        NaN     doggo    doggo  \n",
       "159                   10        NaN     doggo    doggo  \n",
       "190                   10     Barney     doggo    doggo  \n",
       "197                   10     Mimosa     doggo    doggo  \n",
       "235                   10      Meera     doggo    doggo  \n",
       "247                   10        NaN     doggo    doggo  \n",
       "251                   10        NaN     doggo    doggo  \n",
       "258                   10      Rhino     doggo    doggo  \n",
       "265                   10     Smiley     doggo    doggo  \n",
       "266                   10     Miguel     doggo    doggo  \n",
       "267                   10    Emanuel     doggo    doggo  \n",
       "272                   10       Pete     doggo    doggo  \n",
       "281                   10        NaN     doggo    doggo  \n",
       "282                   10     Astrid     doggo    doggo  \n",
       "290                   10    Doobert     doggo    doggo  \n",
       "301                   10       Loki     doggo    doggo  \n",
       "302                   10      Cupid     doggo    doggo  \n",
       "304                   10      Pilot     doggo    doggo  \n",
       "306                   10        NaN     doggo    doggo  \n",
       "330                   10    Duchess     doggo    doggo  \n",
       "332                   10   Sundance     doggo    doggo  \n",
       "334                   10        NaN     doggo    doggo  \n",
       "341                   10        NaN     doggo    doggo  \n",
       "...                  ...        ...       ...      ...  \n",
       "5929                  10     Norman    pupper   pupper  \n",
       "5932                  10      Scott    pupper   pupper  \n",
       "5939                  10       Jazz    pupper   pupper  \n",
       "5946                  10       Rolf    pupper   pupper  \n",
       "5952                  10       Opal    pupper   pupper  \n",
       "5954                  10      Bubba    pupper   pupper  \n",
       "6295                  10        NaN     puppo    puppo  \n",
       "6297                  10     Stuart     puppo    puppo  \n",
       "6347                  10     Snoopy     puppo    puppo  \n",
       "6366                  10  Sebastian     puppo    puppo  \n",
       "6394                  10     Shikha     puppo    puppo  \n",
       "6423                  10        NaN     puppo    puppo  \n",
       "6437                  10        NaN     puppo    puppo  \n",
       "6595                  10        NaN     puppo    puppo  \n",
       "6597                  10      Pablo     puppo    puppo  \n",
       "6608                  10        NaN     puppo    puppo  \n",
       "6625                  10     Oliver     puppo    puppo  \n",
       "6716                  10      Diogi     puppo    puppo  \n",
       "6724                  10       Loki     puppo    puppo  \n",
       "6771                  10       Lily     puppo    puppo  \n",
       "6787                  10      Betty     puppo    puppo  \n",
       "6807                  10      Tonks     puppo    puppo  \n",
       "6827                  10   Reginald     puppo    puppo  \n",
       "6848                  10        NaN     puppo    puppo  \n",
       "7001                  10        NaN     puppo    puppo  \n",
       "7023                  10        NaN     puppo    puppo  \n",
       "7036                  10     Cooper     puppo    puppo  \n",
       "7104                  10       Abby     puppo    puppo  \n",
       "7116                  10       Kilo     puppo    puppo  \n",
       "7150                  10     Bayley     puppo    puppo  \n",
       "\n",
       "[347 rows x 10 columns]"
      ]
     },
     "execution_count": 43,
     "metadata": {},
     "output_type": "execute_result"
    }
   ],
   "source": [
    "tw_archive_clean"
   ]
  },
  {
   "cell_type": "code",
   "execution_count": 44,
   "metadata": {},
   "outputs": [],
   "source": [
    "#Drop the val_name columns\n",
    "tw_archive_clean.drop(columns={'val_name'}, inplace=True)"
   ]
  },
  {
   "cell_type": "code",
   "execution_count": 45,
   "metadata": {},
   "outputs": [
    {
     "data": {
      "text/plain": [
       "pupper     230\n",
       "doggo       83\n",
       "puppo       24\n",
       "floofer     10\n",
       "Name: dog_stage, dtype: int64"
      ]
     },
     "execution_count": 45,
     "metadata": {},
     "output_type": "execute_result"
    }
   ],
   "source": [
    "tw_archive_clean['dog_stage'].value_counts()"
   ]
  },
  {
   "cell_type": "code",
   "execution_count": 46,
   "metadata": {},
   "outputs": [
    {
     "name": "stdout",
     "output_type": "stream",
     "text": [
      "<class 'pandas.core.frame.DataFrame'>\n",
      "Int64Index: 347 entries, 7 to 7150\n",
      "Data columns (total 9 columns):\n",
      "tweet_id              347 non-null object\n",
      "tweet_date            347 non-null datetime64[ns]\n",
      "source                347 non-null object\n",
      "text                  347 non-null object\n",
      "expanded_urls         346 non-null object\n",
      "rating_numerator      347 non-null int64\n",
      "rating_denominator    347 non-null int64\n",
      "name                  190 non-null object\n",
      "dog_stage             347 non-null object\n",
      "dtypes: datetime64[ns](1), int64(2), object(6)\n",
      "memory usage: 27.1+ KB\n"
     ]
    }
   ],
   "source": [
    "tw_archive_clean.info()"
   ]
  },
  {
   "cell_type": "markdown",
   "metadata": {},
   "source": [
    "### Tidyness Issue #2: The 3 dataframes are all related but separated which is an example of messy/untidy data as documented in the tidy data documentation"
   ]
  },
  {
   "cell_type": "markdown",
   "metadata": {},
   "source": [
    "#### Define:\n",
    "\n",
    "Merge the 3 dataframes to one using the tweet_id column"
   ]
  },
  {
   "cell_type": "markdown",
   "metadata": {},
   "source": [
    "#### Code:\n"
   ]
  },
  {
   "cell_type": "code",
   "execution_count": 47,
   "metadata": {},
   "outputs": [],
   "source": [
    "#First merge the twitter_data_clean and tw_archive_clean dataframes\n",
    "tw_archive_clean = pd.merge(tw_archive_clean, twitter_data_clean,\n",
    "                            on=['tweet_id'], how='left')"
   ]
  },
  {
   "cell_type": "code",
   "execution_count": 48,
   "metadata": {},
   "outputs": [],
   "source": [
    "#Next merge the tw_archive_clean1 and img_prd_clean dataframes dropping any unnecessary column\n",
    "tw_archive_clean = pd.merge(tw_archive_clean, img_prd_clean,\n",
    "                            on=['tweet_id'], how='left')"
   ]
  },
  {
   "cell_type": "markdown",
   "metadata": {},
   "source": [
    "#### Test"
   ]
  },
  {
   "cell_type": "code",
   "execution_count": 49,
   "metadata": {},
   "outputs": [
    {
     "name": "stdout",
     "output_type": "stream",
     "text": [
      "<class 'pandas.core.frame.DataFrame'>\n",
      "Int64Index: 347 entries, 0 to 346\n",
      "Data columns (total 22 columns):\n",
      "tweet_id              347 non-null object\n",
      "tweet_date            347 non-null datetime64[ns]\n",
      "source                347 non-null object\n",
      "text                  347 non-null object\n",
      "expanded_urls         346 non-null object\n",
      "rating_numerator      347 non-null int64\n",
      "rating_denominator    347 non-null int64\n",
      "name                  190 non-null object\n",
      "dog_stage             347 non-null object\n",
      "retweet_count         347 non-null int64\n",
      "favorite_count        347 non-null int64\n",
      "jpg_url               313 non-null object\n",
      "img_num               313 non-null float64\n",
      "p1                    313 non-null object\n",
      "p1_conf               313 non-null float64\n",
      "p1_dog                313 non-null object\n",
      "p2                    313 non-null object\n",
      "p2_conf               313 non-null float64\n",
      "p2_dog                313 non-null object\n",
      "p3                    313 non-null object\n",
      "p3_conf               313 non-null float64\n",
      "p3_dog                313 non-null object\n",
      "dtypes: datetime64[ns](1), float64(4), int64(4), object(13)\n",
      "memory usage: 62.4+ KB\n"
     ]
    }
   ],
   "source": [
    "tw_archive_clean.info()"
   ]
  },
  {
   "cell_type": "markdown",
   "metadata": {},
   "source": [
    "## Storing Data\n",
    "\n",
    "<a id=\"sd\"></a>\n",
    "Save gathered, assessed, and cleaned master dataset to a CSV file named \"twitter_archive_master.csv\"."
   ]
  },
  {
   "cell_type": "code",
   "execution_count": 50,
   "metadata": {},
   "outputs": [],
   "source": [
    "#store the t_data to a csv file\n",
    "\n",
    "tw_archive_clean.to_csv('twitter_archive_master.csv', index=False)"
   ]
  },
  {
   "cell_type": "markdown",
   "metadata": {},
   "source": [
    "## Analyzing and Visualizing Data\n",
    "\n",
    "<a id=\"avd\"></a>\n",
    "In this section, analyze and visualize your wrangled data. You must produce at least **three (3) insights and one (1) visualization.**"
   ]
  },
  {
   "cell_type": "code",
   "execution_count": 51,
   "metadata": {},
   "outputs": [],
   "source": [
    "df = pd.read_csv('twitter_archive_master.csv')"
   ]
  },
  {
   "cell_type": "markdown",
   "metadata": {},
   "source": [
    "### Insights:\n",
    "1. Which dog stage has the highest likes (favorite_count)?\n",
    "\n",
    "2. What is the dog stage with the highest retweets?\n",
    "\n",
    "3. Which dog stage has the highest average rating?\n",
    "\n",
    "4. What is the name of the most famous dog?"
   ]
  },
  {
   "cell_type": "markdown",
   "metadata": {
    "collapsed": true
   },
   "source": [
    "### Visualization"
   ]
  },
  {
   "cell_type": "code",
   "execution_count": 52,
   "metadata": {},
   "outputs": [
    {
     "data": {
      "image/png": "[encoded data removed]",
      "text/plain": [
       "<matplotlib.figure.Figure at 0x7f5e55eeaf60>"
      ]
     },
     "metadata": {
      "needs_background": "light"
     },
     "output_type": "display_data"
    }
   ],
   "source": [
    "#To answer question 1: Which dog stage has the highest likes (favorite_count)?\n",
    "#I will plot a barchart with the Dog stages (df.dog_stages) on the horizontal (x-axis) and the Number of likes (df_favorite_count) on the vertical (y-axis)\n",
    "sns.barplot(x = 'dog_stage', y = 'favorite_count', data = df, ci=None)\n",
    "plt.title('What dog stages have the most likes?')\n",
    "plt.xlabel('Dog Stage')\n",
    "plt.ylabel('Number of Likes')\n",
    "plt.savefig('figure1.png', dpi=200);"
   ]
  },
  {
   "cell_type": "markdown",
   "metadata": {},
   "source": [
    "> **Insight:** The barchart shows that dogs in the \"puppo\" stage had the most likes, followed by \"doggo\" dogs while \"pupper\" dogs had the lowest likes"
   ]
  },
  {
   "cell_type": "code",
   "execution_count": 53,
   "metadata": {},
   "outputs": [
    {
     "data": {
      "image/png": "[encoded data removed]",
      "text/plain": [
       "<matplotlib.figure.Figure at 0x7f5e55ebe160>"
      ]
     },
     "metadata": {
      "needs_background": "light"
     },
     "output_type": "display_data"
    }
   ],
   "source": [
    "#To answer question 2: What is the dog stage with the highest retweets?\n",
    "#I will plot another barchart\n",
    "#Here the Dog stages (df.dog_stages) will be on the x-axis and the Number of retweets (df.retweet_count) on the y-axis\n",
    "sns.barplot(x = 'dog_stage', y = 'retweet_count', data = df, ci=None)\n",
    "plt.title('What dog stages have the most retweets?')\n",
    "plt.xlabel('Dog Stage')\n",
    "plt.ylabel('Number of Retweets')\n",
    "plt.savefig('figure2.png', dpi=200);"
   ]
  },
  {
   "cell_type": "markdown",
   "metadata": {},
   "source": [
    "> **Insight:** Again, dogs in the \"puppo\" category have the most retweets, followed closely by \"doggo\" dogs and \"floofer\" dogs before \"puppers\"."
   ]
  },
  {
   "cell_type": "code",
   "execution_count": 54,
   "metadata": {},
   "outputs": [],
   "source": [
    "#Create new column for rating\n",
    "df['rating'] = df['rating_numerator']/df['rating_denominator']"
   ]
  },
  {
   "cell_type": "code",
   "execution_count": 55,
   "metadata": {},
   "outputs": [
    {
     "data": {
      "image/png": "[encoded data removed]",
      "text/plain": [
       "<matplotlib.figure.Figure at 0x7f5e53aaef98>"
      ]
     },
     "metadata": {
      "needs_background": "light"
     },
     "output_type": "display_data"
    }
   ],
   "source": [
    "#To answer question 3: Which dog stage has the highest average rating?\n",
    "#Instead of a normal barchart, I will use a horizontal barchart\n",
    "\n",
    "\n",
    "\n",
    "#function to add labels to the barchart\n",
    "def addlabels(x,y):\n",
    "    for i in range(len(x)):\n",
    "        plt.text(i, y[i]//2, y[i], ha = 'center')\n",
    "\n",
    "df.groupby('dog_stage')['rating'].mean().sort_values().plot(kind='barh',color='g')\n",
    "plt.title('Which dog stage has the highest average rating?')\n",
    "plt.ylabel('Dog Stage')\n",
    "plt.xlabel('Average Rating')\n",
    "plt.savefig('figure3.png', dpi=200);"
   ]
  },
  {
   "cell_type": "markdown",
   "metadata": {},
   "source": [
    "> **Insight:** The competition here is very tight. \"Puppo\" dogs have the highest average rating, followed closely by \"floofer\" dogs, then \"doggo\" dogs and lastly \"puppers\"."
   ]
  },
  {
   "cell_type": "code",
   "execution_count": 56,
   "metadata": {},
   "outputs": [
    {
     "data": {
      "image/png": "[encoded data removed]",
      "text/plain": [
       "<matplotlib.figure.Figure at 0x7f5e53e121d0>"
      ]
     },
     "metadata": {
      "needs_background": "light"
     },
     "output_type": "display_data"
    },
    {
     "data": {
      "text/plain": [
       "<matplotlib.figure.Figure at 0x7f5e53de5390>"
      ]
     },
     "metadata": {},
     "output_type": "display_data"
    }
   ],
   "source": [
    "#To answer question 4: What is the name of the most famous dog?\n",
    "#I will use a wordcloud\n",
    "\n",
    "df = df.dropna()\n",
    "wordcloud = WordCloud(width = 800, height = 800,\n",
    "                background_color ='black',\n",
    "                min_font_size = 10).generate(str(df.name))\n",
    "plt.figure(figsize = (8, 8), facecolor = None)\n",
    "plt.imshow(wordcloud)\n",
    "plt.title('What is the name of the most famous dog?')\n",
    "plt.axis(\"off\")\n",
    "plt.show()\n",
    "plt.savefig('figure4.png', dpi=200);"
   ]
  },
  {
   "cell_type": "markdown",
   "metadata": {},
   "source": [
    "> **Insight:** From the word cloud, the name \"Loki\" stands out, so the most famous dog name is **\"Loki\"**"
   ]
  }
 ],
 "metadata": {
  "extensions": {
   "jupyter_dashboards": {
    "activeView": "report_default",
    "version": 1,
    "views": {
     "grid_default": {
      "cellMargin": 10,
      "defaultCellHeight": 20,
      "maxColumns": 12,
      "name": "grid",
      "type": "grid"
     },
     "report_default": {
      "name": "report",
      "type": "report"
     }
    }
   }
  },
  "kernelspec": {
   "display_name": "Python 3",
   "language": "python",
   "name": "python3"
  },
  "language_info": {
   "codemirror_mode": {
    "name": "ipython",
    "version": 3
   },
   "file_extension": ".py",
   "mimetype": "text/x-python",
   "name": "python",
   "nbconvert_exporter": "python",
   "pygments_lexer": "ipython3",
   "version": "3.6.3"
  }
 },
 "nbformat": 4,
 "nbformat_minor": 2
}
